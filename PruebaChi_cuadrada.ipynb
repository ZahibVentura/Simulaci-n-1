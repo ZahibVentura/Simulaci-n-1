{
  "nbformat": 4,
  "nbformat_minor": 0,
  "metadata": {
    "colab": {
      "provenance": [],
      "authorship_tag": "ABX9TyMRx/heivV6L7VuIkCzu8sf",
      "include_colab_link": true
    },
    "kernelspec": {
      "name": "python3",
      "display_name": "Python 3"
    },
    "language_info": {
      "name": "python"
    }
  },
  "cells": [
    {
      "cell_type": "markdown",
      "metadata": {
        "id": "view-in-github",
        "colab_type": "text"
      },
      "source": [
        "<a href=\"https://colab.research.google.com/github/ZahibVentura/Simulaci-n-1/blob/main/PruebaChi_cuadrada.ipynb\" target=\"_parent\"><img src=\"https://colab.research.google.com/assets/colab-badge.svg\" alt=\"Open In Colab\"/></a>"
      ]
    },
    {
      "cell_type": "code",
      "execution_count": 6,
      "metadata": {
        "id": "2iaYJg8TslNW",
        "colab": {
          "base_uri": "https://localhost:8080/"
        },
        "outputId": "b80e6ffa-7d2d-49c9-908d-b1d689cd1172"
      },
      "outputs": [
        {
          "output_type": "stream",
          "name": "stdout",
          "text": [
            "Ingresa el valor de significancia: 0.05\n",
            "\n",
            "\n",
            "+--------------+----+------+-------+----------------+\n",
            "|  Intervalo   | fo |  fe  | fo-fe | (fo-fe)^2 / fe |\n",
            "+--------------+----+------+-------+----------------+\n",
            "| (0.0-0.1999) | 6  | 10.0 |  -4.0 |      1.6       |\n",
            "| (0.2-0.3999) | 12 | 10.0 |  2.0  |      0.4       |\n",
            "| (0.4-0.5999) | 13 | 10.0 |  3.0  |      0.9       |\n",
            "| (0.6-0.7999) | 7  | 10.0 |  -3.0 |      0.9       |\n",
            "| (0.8-0.9999) | 12 | 10.0 |  2.0  |      0.4       |\n",
            "+--------------+----+------+-------+----------------+\n",
            "\n",
            "\n",
            "El valor de Chi-cuadrada es:  4.2 \n",
            "\n",
            "Como  4.2  <  9.4877\n",
            "No se rechaza la hipotesis Ho\n"
          ]
        }
      ],
      "source": [
        "from prettytable import PrettyTable\n",
        "from scipy.stats import chi2\n",
        "\n",
        "def valores_criticos_chi_cuadrada(significancia, num_clases):\n",
        "    # Calcular el valor crítico de la distribución chi cuadrada\n",
        "        valor_critico = chi2.ppf(1 - significancia, num_clases - 1)\n",
        "        return valor_critico\n",
        "\n",
        "#se presentan los valores de numeros aleatorios en una lista\n",
        "\"\"\"bien puedo pedri al usuario que ingrese uno por uno,\n",
        "mas en cambio esto sería muy tardado, por lo que si el usuario los tuviera en una\n",
        "lista solo seria sustituir esta lista por la suya \"\"\"\n",
        "\n",
        "numeros = [0.8797, 0.3884, 0.6289, 0.8750, 0.5999, 0.8589, 0.9996, 0.2415, 0.3808, 0.9606,\n",
        "           0.9848, 0.3469, 0.7977, 0.5844, 0.8147, 0.6431, 0.7387, 0.5613, 0.0318, 0.7401,\n",
        "           0.4557, 0.1592, 0.8536, 0.8846, 0.3410, 0.1492, 0.8681, 0.5291, 0.3188, 0.5992,\n",
        "           0.9170, 0.2204, 0.5991, 0.5461, 0.5739, 0.3254, 0.0856, 0.2258, 0.4603, 0.5027,\n",
        "           0.8376, 0.6235, 0.3681, 0.2088, 0.1525, 0.2006, 0.4720, 0.4272, 0.6360, 0.0954]\n",
        "\n",
        "\n",
        "Significancia = float(input('Ingresa el valor de significancia: '))\n",
        "Critico = valores_criticos_chi_cuadrada(Significancia,5) #guardamos el valor critico en una variable\n",
        "\n",
        "\"\"\" estas variables inicializadas en 0 serviran como\n",
        "contadores, pues resula importante saber cuantos datos se encuantran\n",
        "en un intervalo dado\"\"\"\n",
        "a=0\n",
        "b=0\n",
        "c=0\n",
        "d=0\n",
        "e=0\n",
        "#establecemos los intervalos\n",
        "for i in numeros:\n",
        "  if 0 <= i < 0.2:\n",
        "    a = a+1\n",
        "  elif 0.2 <= i < 0.4:\n",
        "    b = b+1\n",
        "  elif 0.4 <= i < 0.6:\n",
        "    c = c+1\n",
        "  elif 0.6 <= i < 0.8:\n",
        "    d = d+1\n",
        "  elif 0.8 <= i < 1.0:\n",
        "    e = e+1\n",
        "#se creandos diccionarios, uno para los intervalos y otro para los contadores\n",
        "Intervalos={'1': '(0.0-0.1999)',\n",
        "            '2': '(0.2-0.3999)',\n",
        "            '3': '(0.4-0.5999)',\n",
        "            '4': '(0.6-0.7999)',\n",
        "            '5': '(0.8-0.9999)'}\n",
        "Oi={'1': a,\n",
        "    '2': b,\n",
        "    '3': c,\n",
        "    '4': d,\n",
        "    '5': e }\n",
        "\n",
        "print('\\n')\n",
        "X2=0 #servira como variable que almacene las sumas de (fo-fe)^2 / fe\n",
        "Frecuencia_esperada = len(numeros)/5\n",
        "Tabla = PrettyTable(['Intervalo','fo','fe','fo-fe','(fo-fe)^2 / fe']) #creamos una tabla para guardas la frecuensia observada\n",
        "\n",
        "#ciclo for que nos ayudara para anadir filas a nuestra tabla y para la suma de chi-cuadrada\n",
        "for i in Intervalos:\n",
        "  diferencia=Oi[i]-Frecuencia_esperada\n",
        "  cuadrado_div = (diferencia**2)/Frecuencia_esperada\n",
        "  X2=X2+cuadrado_div\n",
        "\n",
        "  listabla = [Intervalos[i],Oi[i],Frecuencia_esperada,diferencia,cuadrado_div]\n",
        "  Tabla.add_row(listabla)\n",
        "\n",
        "print(Tabla) #imprimimos nuestra tabla\n",
        "print('\\n')\n",
        "print('El valor de Chi-cuadrada es: ',X2,'\\n') #se imprime el valor\n",
        "\n",
        "#condiciones para rechar o aceptar la hiposis nula\n",
        "if X2<round(Critico,4):\n",
        "  print('Como ',X2,' < ',round(Critico,4))\n",
        "  print('No se rechaza la hipotesis Ho')\n",
        "else:\n",
        "  print('Como ',X2,' >= ',round(Critico,4))\n",
        "  print('Se rechaza Ho')"
      ]
    }
  ]
}