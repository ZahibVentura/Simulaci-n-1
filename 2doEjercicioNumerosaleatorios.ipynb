{
  "nbformat": 4,
  "nbformat_minor": 0,
  "metadata": {
    "colab": {
      "provenance": [],
      "authorship_tag": "ABX9TyNtzZDkXPOdVQgMPqWVLBXw",
      "include_colab_link": true
    },
    "kernelspec": {
      "name": "python3",
      "display_name": "Python 3"
    },
    "language_info": {
      "name": "python"
    }
  },
  "cells": [
    {
      "cell_type": "markdown",
      "metadata": {
        "id": "view-in-github",
        "colab_type": "text"
      },
      "source": [
        "<a href=\"https://colab.research.google.com/github/ZahibVentura/Simulaci-n-1/blob/main/2doEjercicioNumerosaleatorios.ipynb\" target=\"_parent\"><img src=\"https://colab.research.google.com/assets/colab-badge.svg\" alt=\"Open In Colab\"/></a>"
      ]
    },
    {
      "cell_type": "code",
      "execution_count": null,
      "metadata": {
        "colab": {
          "base_uri": "https://localhost:8080/"
        },
        "id": "InGQGVFjgM80",
        "outputId": "94f13ba6-705a-47c7-bd9d-5c5baf9d0856"
      },
      "outputs": [
        {
          "output_type": "stream",
          "name": "stdout",
          "text": [
            "956\n",
            "913936\n"
          ]
        }
      ],
      "source": [
        "\n",
        "\n",
        "X0 = 345\n",
        "X1 = 567\n",
        "X2 = 0\n",
        "producto = X0*X1\n",
        "C=str(producto)\n",
        "if len(C) % 2 == 0:\n",
        "   T='0'+C\n",
        "   Q=int(T[2:5])\n",
        "   X2=Q\n",
        "else:\n",
        "   Q=int(C[1:4])\n",
        "Y=str(F[2:5])\n",
        "print(Q)\n",
        "print(X2*X2)"
      ]
    },
    {
      "cell_type": "code",
      "source": [
        "x0 = int(input('Ingrese un numero de 3 cifras: '))\n",
        "x1 = int(input('Ingrese otro numero de 3 cifras: '))\n",
        "aux = 0\n",
        "\n",
        "#generaremos un numero aleatorio\n",
        "for i in range(10):\n",
        "  res = x0*x1\n",
        "  caracter_res = str(res)\n",
        "\n",
        "  if len(caracter_res)%2 == 0:\n",
        "    Caracteres = '0' + caracter_res\n",
        "    aux = int(Caracteres[2:5])\n",
        "    print( x0   ,   x1  ,  aux)\n",
        "  elif ( len(caracter_res) % 2 != 0 & len(caracter_res)<=5):\n",
        "    aux = int(caracter_res[1:4])\n",
        "    print( x0   ,   x1  ,  aux)\n",
        "\n",
        "  x0=x1\n",
        "  x1=aux\n",
        "\n",
        "print('Numero aleatorio: ',x1)\n",
        "\n",
        "\n",
        "\n",
        "\n",
        "\n",
        "\n",
        "\n"
      ],
      "metadata": {
        "id": "U4aVnvdFa08K",
        "outputId": "2aa6c3da-3bca-40c5-c0c5-d5640b0fd22d",
        "colab": {
          "base_uri": "https://localhost:8080/"
        }
      },
      "execution_count": 1,
      "outputs": [
        {
          "output_type": "stream",
          "name": "stdout",
          "text": [
            "Ingrese un numero de 3 cifras: 123\n",
            "Ingrese otro numero de 3 cifras: 456\n",
            "123 456 608\n",
            "456 608 772\n",
            "608 772 693\n",
            "772 693 349\n",
            "693 349 418\n",
            "349 418 458\n",
            "418 458 914\n",
            "458 914 186\n",
            "914 186 700\n",
            "186 700 302\n",
            "Numero aleatorio:  302\n"
          ]
        }
      ]
    }
  ]
}