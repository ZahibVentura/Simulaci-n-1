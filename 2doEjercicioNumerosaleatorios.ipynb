{
  "nbformat": 4,
  "nbformat_minor": 0,
  "metadata": {
    "colab": {
      "provenance": [],
      "authorship_tag": "ABX9TyOejtivPcpmdyAL7dZ6z5Rr",
      "include_colab_link": true
    },
    "kernelspec": {
      "name": "python3",
      "display_name": "Python 3"
    },
    "language_info": {
      "name": "python"
    }
  },
  "cells": [
    {
      "cell_type": "markdown",
      "metadata": {
        "id": "view-in-github",
        "colab_type": "text"
      },
      "source": [
        "<a href=\"https://colab.research.google.com/github/ZahibVentura/Simulaci-n-1/blob/main/2doEjercicioNumerosaleatorios.ipynb\" target=\"_parent\"><img src=\"https://colab.research.google.com/assets/colab-badge.svg\" alt=\"Open In Colab\"/></a>"
      ]
    },
    {
      "cell_type": "code",
      "execution_count": 26,
      "metadata": {
        "colab": {
          "base_uri": "https://localhost:8080/"
        },
        "id": "InGQGVFjgM80",
        "outputId": "1dafb209-0ed6-4e53-8a76-353b4b98cf47"
      },
      "outputs": [
        {
          "output_type": "stream",
          "name": "stdout",
          "text": [
            "Ingresa un numero de n cifras: 4536\n",
            "ingresa otro numero de n cifras: 7554\n",
            "+----+------+------+----------+------+\n",
            "| i  |  X0  |  X1  |  X0*X1   |  Q   |\n",
            "+----+------+------+----------+------+\n",
            "| 0  | 4536 | 7554 | 34264944 | 2649 |\n",
            "| 1  | 7554 | 2649 | 20010546 | 105  |\n",
            "| 2  | 2649 | 105  |  278145  | 7814 |\n",
            "| 3  | 105  | 7814 |  820470  | 2047 |\n",
            "| 4  | 7814 | 2047 | 15995258 | 9952 |\n",
            "| 5  | 2047 | 9952 | 20371744 | 3717 |\n",
            "| 6  | 9952 | 3717 | 36991584 | 9915 |\n",
            "| 7  | 3717 | 9915 | 36854055 | 8540 |\n",
            "| 8  | 9915 | 8540 | 84674100 | 6741 |\n",
            "| 9  | 8540 | 6741 | 57568140 | 5681 |\n",
            "| 10 | 6741 | 5681 | 38295621 | 2956 |\n",
            "| 11 | 5681 | 2956 | 16793036 | 7930 |\n",
            "| 12 | 2956 | 7930 | 23441080 | 4410 |\n",
            "| 13 | 7930 | 4410 | 34971300 | 9713 |\n",
            "| 14 | 4410 | 9713 | 42834330 | 8343 |\n",
            "| 15 | 9713 | 8343 | 81035559 | 355  |\n",
            "| 16 | 8343 | 355  | 2961765  | 9617 |\n",
            "| 17 | 355  | 9617 | 3414035  | 4140 |\n",
            "| 18 | 9617 | 4140 | 39814380 | 8143 |\n",
            "| 19 | 4140 | 8143 | 33712020 | 7120 |\n",
            "| 20 | 8143 | 7120 | 57978160 | 9781 |\n",
            "| 21 | 7120 | 9781 | 69640720 | 6407 |\n",
            "| 22 | 9781 | 6407 | 62666867 | 6668 |\n",
            "| 23 | 6407 | 6668 | 42721876 | 7218 |\n",
            "| 24 | 6668 | 7218 | 48129624 | 1296 |\n",
            "| 25 | 7218 | 1296 | 9354528  | 3545 |\n",
            "| 26 | 1296 | 3545 | 4594320  | 5943 |\n",
            "| 27 | 3545 | 5943 | 21067935 | 679  |\n",
            "| 28 | 5943 | 679  | 4035297  | 352  |\n",
            "| 29 | 679  | 352  |  239008  | 3900 |\n",
            "| 30 | 352  | 3900 | 1372800  | 3728 |\n",
            "| 31 | 3900 | 3728 | 14539200 | 5392 |\n",
            "| 32 | 3728 | 5392 | 20101376 | 1013 |\n",
            "| 33 | 5392 | 1013 | 5462096  | 4620 |\n",
            "| 34 | 1013 | 4620 | 4680060  | 6800 |\n",
            "| 35 | 4620 | 6800 | 31416000 | 4160 |\n",
            "| 36 | 6800 | 4160 | 28288000 | 2880 |\n",
            "| 37 | 4160 | 2880 | 11980800 | 9808 |\n",
            "| 38 | 2880 | 9808 | 28247040 | 2470 |\n",
            "| 39 | 9808 | 2470 | 24225760 | 2257 |\n",
            "| 40 | 2470 | 2257 | 5574790  | 5747 |\n",
            "| 41 | 2257 | 5747 | 12970979 | 9709 |\n",
            "| 42 | 5747 | 9709 | 55797623 | 7976 |\n",
            "| 43 | 9709 | 7976 | 77438984 | 4389 |\n",
            "| 44 | 7976 | 4389 | 35006664 |  66  |\n",
            "| 45 | 4389 |  66  |  289674  | 8967 |\n",
            "| 46 |  66  | 8967 |  591822  | 9182 |\n",
            "| 47 | 8967 | 9182 | 82334994 | 3349 |\n",
            "| 48 | 9182 | 3349 | 30750518 | 7505 |\n",
            "| 49 | 3349 | 7505 | 25134245 | 1342 |\n",
            "+----+------+------+----------+------+\n"
          ]
        }
      ],
      "source": [
        "#algoritmo de producto medio para generar numeros aleatorios\n",
        "\n",
        "from prettytable import PrettyTable\n",
        "\n",
        "X0 = int(input('Ingresa un numero de n cifras: '))\n",
        "X1 = int(input('ingresa otro numero de n cifras: '))\n",
        "Tabla = PrettyTable(['i','X0','X1','X0*X1','Q'])\n",
        "n = len(str(X0))\n",
        "for i in range(50):\n",
        "\n",
        "  producto = X0*X1\n",
        "  C=str(producto)\n",
        "  if n%2 == 0:\n",
        "    if len(C) % 2 == 0:\n",
        "      j=int(len(C)/2)\n",
        "      s=int(n/2)\n",
        "      Q=int(C[j-s:j+s])\n",
        "\n",
        "    else:\n",
        "      t='0'+ C\n",
        "      j=int(len(t)/2)\n",
        "      s=int(n/2)\n",
        "      Q=int(t[j-s:j+s])\n",
        "\n",
        "  else:\n",
        "    if len(C) % 2 == 0:\n",
        "      t='0'+ C\n",
        "      j=int(len(C)/2)+1\n",
        "      s=int((n-1)/2)\n",
        "      Q=int(t[j-s-1:j+s])\n",
        "    else:\n",
        "      j=int((len(C)-1)/2)+1\n",
        "      s=int((n-1)/2)\n",
        "      Q=int(C[j-s-1:j+s])\n",
        "  listabla=[i,X0,X1,producto,Q]\n",
        "  Tabla.add_row(listabla)\n",
        "  X0=X1\n",
        "  X1=Q\n",
        "\n",
        "\n",
        "print(Tabla)\n"
      ]
    }
  ]
}