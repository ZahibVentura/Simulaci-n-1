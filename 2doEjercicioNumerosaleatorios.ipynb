{
  "nbformat": 4,
  "nbformat_minor": 0,
  "metadata": {
    "colab": {
      "provenance": [],
      "authorship_tag": "ABX9TyPG+i4CWXFaTUFasAGbvdTH",
      "include_colab_link": true
    },
    "kernelspec": {
      "name": "python3",
      "display_name": "Python 3"
    },
    "language_info": {
      "name": "python"
    }
  },
  "cells": [
    {
      "cell_type": "markdown",
      "metadata": {
        "id": "view-in-github",
        "colab_type": "text"
      },
      "source": [
        "<a href=\"https://colab.research.google.com/github/ZahibVentura/Simulaci-n-1/blob/main/2doEjercicioNumerosaleatorios.ipynb\" target=\"_parent\"><img src=\"https://colab.research.google.com/assets/colab-badge.svg\" alt=\"Open In Colab\"/></a>"
      ]
    },
    {
      "cell_type": "code",
      "execution_count": null,
      "metadata": {
        "colab": {
          "base_uri": "https://localhost:8080/"
        },
        "id": "InGQGVFjgM80",
        "outputId": "94f13ba6-705a-47c7-bd9d-5c5baf9d0856"
      },
      "outputs": [
        {
          "output_type": "stream",
          "name": "stdout",
          "text": [
            "956\n",
            "913936\n"
          ]
        }
      ],
      "source": [
        "\n",
        "\n",
        "X0 = 345\n",
        "X1 = 567\n",
        "X2 = 0\n",
        "producto = X0*X1\n",
        "C=str(producto)\n",
        "if len(C) % 2 == 0:\n",
        "   T='0'+C\n",
        "   Q=int(T[2:5])\n",
        "   X2=Q\n",
        "else:\n",
        "   Q=int(C[1:4])\n",
        "Y=str(F[2:5])\n",
        "print(Q)\n",
        "print(X2*X2)"
      ]
    }
  ]
}