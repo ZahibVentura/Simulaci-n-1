{
  "cells": [
    {
      "cell_type": "markdown",
      "metadata": {
        "id": "view-in-github",
        "colab_type": "text"
      },
      "source": [
        "<a href=\"https://colab.research.google.com/github/ZahibVentura/Simulaci-n-1/blob/main/MetodoCongruencial.ipynb\" target=\"_parent\"><img src=\"https://colab.research.google.com/assets/colab-badge.svg\" alt=\"Open In Colab\"/></a>"
      ]
    },
    {
      "cell_type": "code",
      "execution_count": 2,
      "metadata": {
        "colab": {
          "base_uri": "https://localhost:8080/"
        },
        "id": "KF0ZOsF139W7",
        "outputId": "0f2cfce8-0e05-4b5e-cc20-8ac7a71d105d"
      },
      "outputs": [
        {
          "output_type": "stream",
          "name": "stdout",
          "text": [
            "Ingrese la semilla Xo: 17\n",
            "Ingrese a: 1\n",
            "Ingrese c: 37\n",
            "Ingrese m: 26\n",
            "Ingrese las iteraciones: 40\n",
            "+----+----+-------+-----------+--------+\n",
            "| i  | Xn | aXn+c | aXn+c % m |  Xn/m  |\n",
            "+----+----+-------+-----------+--------+\n",
            "| 1  | 17 |   54  |     2     | 0.6538 |\n",
            "| 2  | 2  |   39  |     13    | 0.0769 |\n",
            "| 3  | 13 |   50  |     24    |  0.5   |\n",
            "| 4  | 24 |   61  |     9     | 0.9231 |\n",
            "| 5  | 9  |   46  |     20    | 0.3462 |\n",
            "| 6  | 20 |   57  |     5     | 0.7692 |\n",
            "| 7  | 5  |   42  |     16    | 0.1923 |\n",
            "| 8  | 16 |   53  |     1     | 0.6154 |\n",
            "| 9  | 1  |   38  |     12    | 0.0385 |\n",
            "| 10 | 12 |   49  |     23    | 0.4615 |\n",
            "| 11 | 23 |   60  |     8     | 0.8846 |\n",
            "| 12 | 8  |   45  |     19    | 0.3077 |\n",
            "| 13 | 19 |   56  |     4     | 0.7308 |\n",
            "| 14 | 4  |   41  |     15    | 0.1538 |\n",
            "| 15 | 15 |   52  |     0     | 0.5769 |\n",
            "| 16 | 0  |   37  |     11    |  0.0   |\n",
            "| 17 | 11 |   48  |     22    | 0.4231 |\n",
            "| 18 | 22 |   59  |     7     | 0.8462 |\n",
            "| 19 | 7  |   44  |     18    | 0.2692 |\n",
            "| 20 | 18 |   55  |     3     | 0.6923 |\n",
            "| 21 | 3  |   40  |     14    | 0.1154 |\n",
            "| 22 | 14 |   51  |     25    | 0.5385 |\n",
            "| 23 | 25 |   62  |     10    | 0.9615 |\n",
            "| 24 | 10 |   47  |     21    | 0.3846 |\n",
            "| 25 | 21 |   58  |     6     | 0.8077 |\n",
            "| 26 | 6  |   43  |     17    | 0.2308 |\n",
            "| 27 | 17 |   54  |     2     | 0.6538 |\n",
            "| 28 | 2  |   39  |     13    | 0.0769 |\n",
            "| 29 | 13 |   50  |     24    |  0.5   |\n",
            "| 30 | 24 |   61  |     9     | 0.9231 |\n",
            "| 31 | 9  |   46  |     20    | 0.3462 |\n",
            "| 32 | 20 |   57  |     5     | 0.7692 |\n",
            "| 33 | 5  |   42  |     16    | 0.1923 |\n",
            "| 34 | 16 |   53  |     1     | 0.6154 |\n",
            "| 35 | 1  |   38  |     12    | 0.0385 |\n",
            "| 36 | 12 |   49  |     23    | 0.4615 |\n",
            "| 37 | 23 |   60  |     8     | 0.8846 |\n",
            "| 38 | 8  |   45  |     19    | 0.3077 |\n",
            "| 39 | 19 |   56  |     4     | 0.7308 |\n",
            "| 40 | 4  |   41  |     15    | 0.1538 |\n",
            "+----+----+-------+-----------+--------+\n"
          ]
        },
        {
          "output_type": "execute_result",
          "data": {
            "text/plain": [
              "3"
            ]
          },
          "metadata": {},
          "execution_count": 2
        }
      ],
      "source": [
        "#algoritomo para número aleatorio metodo congruencial\n",
        "from prettytable import PrettyTable\n",
        "\n",
        "\n",
        "x0=int(input(\"Ingrese la semilla Xo: \")) #se pide un numero de n dígitos para empezar\n",
        "a=int(input(\"Ingrese a: \"))\n",
        "c=int(input(\"Ingrese c: \")) #se piden las entradas a,c,m\n",
        "m=int(input(\"Ingrese m: \"))\n",
        "iteracion=int(input('Ingrese las iteraciones: ')) #se pieden las iteraciones que desea el ususario\n",
        "Tabla=PrettyTable(['i','Xn','aXn+c','aXn+c % m','Xn/m']) #creamos una tabla para mostrar los valores de cada iteración\n",
        "\n",
        "for i in range(iteracion):\n",
        "  Resultado=a*x0+c\n",
        "  Modulo=Resultado%m #nos devuelve un numero aleatorio el cual es el modulo de la división\n",
        "  decimal=x0/m\n",
        "  listabla=[i+1,x0,Resultado,Modulo,round(decimal,4)]\n",
        "  Tabla.add_row(listabla)\n",
        "\n",
        "  x0=Modulo #reasignamos valor a la semilla\n",
        "\n",
        "print(Tabla) #imprimimos resultados\n",
        "3"
      ]
    }
  ],
  "metadata": {
    "colab": {
      "provenance": [],
      "authorship_tag": "ABX9TyPXyMAF5GsLPQ+2hSdsx0d4",
      "include_colab_link": true
    },
    "kernelspec": {
      "display_name": "Python 3",
      "name": "python3"
    },
    "language_info": {
      "name": "python"
    }
  },
  "nbformat": 4,
  "nbformat_minor": 0
}