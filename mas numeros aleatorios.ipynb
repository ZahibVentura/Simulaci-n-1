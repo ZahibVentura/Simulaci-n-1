{
  "cells": [
    {
      "cell_type": "markdown",
      "metadata": {
        "id": "j426wHqMYc3u"
      },
      "source": [
        "# Uso de los números aleatorios"
      ]
    },
    {
      "cell_type": "markdown",
      "metadata": {
        "id": "pLDo7OXQYc3v"
      },
      "source": [
        "## 1. Introducción al Módulo random"
      ]
    },
    {
      "cell_type": "markdown",
      "metadata": {
        "id": "2TUyxXBiYc3w"
      },
      "source": [
        "El módulo random de la librería estándar de Python incluye un conjunto de funciones que permiten obtener de distintos modos\n",
        "números pseudoaleatorios a través del algoritmo [Mersenne Twister](https://es.wikipedia.org/wiki/Mersenne_twister)."
      ]
    },
    {
      "cell_type": "code",
      "execution_count": 2,
      "metadata": {
        "id": "zCMI-oZ6Yc3w"
      },
      "outputs": [],
      "source": [
        "#importamos el módulo que vamos a usar\n",
        "\n",
        "import random\n",
        "import numpy as np\n",
        "import matplotlib.pyplot as plt"
      ]
    },
    {
      "cell_type": "markdown",
      "metadata": {
        "id": "mcuBKChpYc3x"
      },
      "source": [
        "Las funciones de los módulos se invocan con el formato: módulo.función().\n",
        "\n",
        "En el módulo random existe la función random, que devuelve un número aleatorio que sigue una distribución uniforme.\n",
        "\n",
        "Así, para obtener $x \\sim U(0,1)$:"
      ]
    },
    {
      "cell_type": "code",
      "execution_count": 3,
      "metadata": {
        "id": "_zSMUjqEYc3x",
        "outputId": "e99925d7-a1f8-4a16-9649-686ab801d4b9",
        "colab": {
          "base_uri": "https://localhost:8080/"
        }
      },
      "outputs": [
        {
          "output_type": "stream",
          "name": "stdout",
          "text": [
            "0.4544173509860687\n"
          ]
        }
      ],
      "source": [
        "x = random.random()  #Cada ejecución dará un número distinto.\n",
        "print(x)"
      ]
    },
    {
      "cell_type": "markdown",
      "metadata": {
        "id": "CfKaQJnMYc3x"
      },
      "source": [
        "Se puede usar algún bucle si se desea generar una secuencia $x_i \\sim U(0,1)$ con $i = 1, 2, 3,..., N$:"
      ]
    },
    {
      "cell_type": "code",
      "execution_count": 4,
      "metadata": {
        "id": "q0Rq_J1VYc3x",
        "outputId": "e96d98cb-ea0e-45d4-9976-d1f44714277e",
        "colab": {
          "base_uri": "https://localhost:8080/"
        }
      },
      "outputs": [
        {
          "output_type": "stream",
          "name": "stdout",
          "text": [
            "0.5426 0.7284 0.9644 0.8867 0.9294 0.7699 0.4523 0.6310 0.2525 0.6982 \n"
          ]
        }
      ],
      "source": [
        "for i in range(10):\n",
        "    print('%05.4f' % random.random(), end=' ')  #El código en rojo indica la cantidad de dígitos y de decimales a mostrar.\n",
        "print()"
      ]
    },
    {
      "cell_type": "code",
      "execution_count": 12,
      "metadata": {
        "id": "Q_FJifOTYc3x",
        "outputId": "ee44a7fd-9175-4db0-cd72-bab000d8f70f",
        "colab": {
          "base_uri": "https://localhost:8080/"
        }
      },
      "outputs": [
        {
          "output_type": "stream",
          "name": "stdout",
          "text": [
            "0.9925\n",
            "0.8599\n",
            "0.1209\n",
            "0.3327\n",
            "0.7215\n",
            "0.7112\n",
            "0.9364\n",
            "0.4221\n",
            "0.8300\n",
            "0.6703\n",
            "\n"
          ]
        }
      ],
      "source": [
        "for i in range(10):\n",
        "    print('%05.4f' % random.random(), sep=\"\\t\")\n",
        "print()"
      ]
    },
    {
      "cell_type": "markdown",
      "metadata": {
        "id": "ILFdi2xGYc3x"
      },
      "source": [
        "La función seed() fija el valor de la semilla en la generación de la secuencia de números aleatorios.\n",
        "Esto es útil cuando se quieren utilizar los mismos datos de entrada en una simulación."
      ]
    },
    {
      "cell_type": "code",
      "execution_count": 13,
      "metadata": {
        "id": "JyCDYnz4Yc3y",
        "outputId": "60668524-69a8-4b70-9b82-6e06a6406fbf",
        "colab": {
          "base_uri": "https://localhost:8080/"
        }
      },
      "outputs": [
        {
          "output_type": "stream",
          "name": "stdout",
          "text": [
            "0.1344 0.8474 0.7638 0.2551 0.4954 0.4495 0.6516 0.7887 0.0939 0.0283 0.8358 0.4328 0.7623 0.0021 0.4454 0.7215 0.2288 0.9453 0.9014 0.0306 \n"
          ]
        }
      ],
      "source": [
        "random.seed(1) #primero fijamos la semilla\n",
        "\n",
        "for i in range(20):\n",
        "    print('%05.4f' % random.random(), end=' ')\n",
        "print()"
      ]
    },
    {
      "cell_type": "markdown",
      "metadata": {
        "id": "k0USwdGtYc3y"
      },
      "source": [
        "La función uniform() devuelve un número float incluido entre los valores indicados."
      ]
    },
    {
      "cell_type": "code",
      "execution_count": 16,
      "metadata": {
        "id": "KHizUwCJYc3y",
        "outputId": "328d0500-4563-4449-fe4b-7df566164748",
        "colab": {
          "base_uri": "https://localhost:8080/"
        }
      },
      "outputs": [
        {
          "output_type": "stream",
          "name": "stdout",
          "text": [
            "49.6346 43.1374 6.9236 17.3021 36.3527 35.8484 46.8856 21.6832 41.6717 33.8450 \n"
          ]
        }
      ],
      "source": [
        "for i in range(10):\n",
        "    print('%5.4f' %random.uniform(1, 50), end=' ')\n",
        "print()"
      ]
    },
    {
      "cell_type": "markdown",
      "metadata": {
        "id": "EXak-z9PYc3y"
      },
      "source": [
        "La función randint() devuelve un número entero incluido entre los valores indicados.\n",
        "Los valores de los límites inferior y superior también pueden aparecer entre los valores devueltos."
      ]
    },
    {
      "cell_type": "code",
      "execution_count": 23,
      "metadata": {
        "id": "r8d5Lyb1Yc3y",
        "outputId": "3dd4b12c-cb0c-445e-9824-b7811f3afde0",
        "colab": {
          "base_uri": "https://localhost:8080/"
        }
      },
      "outputs": [
        {
          "output_type": "stream",
          "name": "stdout",
          "text": [
            "-53 -12 -26 -83 -58 -60 -35 35 -57 68 -31 65 82 -25 16 79 -18 27 21 -71 \n"
          ]
        }
      ],
      "source": [
        "for i in range(20):\n",
        "    print(random.randint(-100, 100), end=' ')\n",
        "print()"
      ]
    },
    {
      "cell_type": "markdown",
      "metadata": {
        "id": "EkuOfaI_Yc3y"
      },
      "source": [
        "La función randrange() devuelve enteros que van desde un valor inicial a otro final\n",
        "separados entre sí un número de valores determinados."
      ]
    },
    {
      "cell_type": "code",
      "execution_count": 24,
      "metadata": {
        "id": "G-qhvDEjYc3y",
        "outputId": "cf2bf648-7277-443c-d617-54cfdcde80a3",
        "colab": {
          "base_uri": "https://localhost:8080/"
        }
      },
      "outputs": [
        {
          "output_type": "stream",
          "name": "stdout",
          "text": [
            "0 6 9 6 9 18 3 6 0 6 15 12 3 12 9 18 0 3 0 9 \n"
          ]
        }
      ],
      "source": [
        "for i in range(20):\n",
        "    print(random.randrange(0, 20, 3), end=' ')\n",
        "print()"
      ]
    },
    {
      "cell_type": "code",
      "execution_count": null,
      "metadata": {
        "id": "_u5wrKRNYc3z"
      },
      "outputs": [],
      "source": []
    },
    {
      "cell_type": "markdown",
      "metadata": {
        "id": "okD2qcD5Yc3z"
      },
      "source": [
        "La función random.choice() se utiliza para seleccionar elementos al azar de una lista."
      ]
    },
    {
      "cell_type": "code",
      "execution_count": 25,
      "metadata": {
        "id": "YYp8hOWWYc3z"
      },
      "outputs": [],
      "source": [
        "Lista = ['Rome','New York','London','Berlin','Moskov', 'Los Angeles','Paris','Madrid','Tokio','Toronto']"
      ]
    },
    {
      "cell_type": "code",
      "execution_count": 27,
      "metadata": {
        "id": "OD9AV48yYc3z",
        "outputId": "8bf2ab8a-92d5-411a-ddd0-7ec69fab3e4f",
        "colab": {
          "base_uri": "https://localhost:8080/"
        }
      },
      "outputs": [
        {
          "output_type": "stream",
          "name": "stdout",
          "text": [
            "La ciudad elegida es -  Rome\n"
          ]
        }
      ],
      "source": [
        "Ciudad = random.choice(Lista)\n",
        "print (\"La ciudad elegida es - \", Ciudad)"
      ]
    },
    {
      "cell_type": "code",
      "execution_count": 28,
      "metadata": {
        "id": "dbc5eRkIYc3z",
        "outputId": "2b9b773f-1bab-4966-e0a7-cda0df93ae2b",
        "colab": {
          "base_uri": "https://localhost:8080/"
        }
      },
      "outputs": [
        {
          "output_type": "stream",
          "name": "stdout",
          "text": [
            "La ciudad elegida es -  London\n",
            "La ciudad elegida es -  Madrid\n",
            "La ciudad elegida es -  Tokio\n",
            "La ciudad elegida es -  Paris\n",
            "La ciudad elegida es -  Tokio\n",
            "La ciudad elegida es -  Berlin\n",
            "La ciudad elegida es -  Tokio\n",
            "La ciudad elegida es -  Madrid\n",
            "La ciudad elegida es -  Berlin\n",
            "La ciudad elegida es -  Tokio\n"
          ]
        }
      ],
      "source": [
        "for i in range(10):\n",
        "    Ciudad = random.choice(Lista)\n",
        "    print (\"La ciudad elegida es - \", Ciudad)"
      ]
    },
    {
      "cell_type": "markdown",
      "metadata": {
        "id": "3KwjY7nwYc3z"
      },
      "source": [
        "La función sample() devuelve de una lista de elementos un determinado número de elementos diferentes elegidos al azar."
      ]
    },
    {
      "cell_type": "code",
      "execution_count": 31,
      "metadata": {
        "id": "97tRvBEUYc3z",
        "outputId": "18fa05d9-2f17-4113-ffaa-57b9496a705f",
        "colab": {
          "base_uri": "https://localhost:8080/"
        }
      },
      "outputs": [
        {
          "output_type": "stream",
          "name": "stdout",
          "text": [
            "['Paris', 'Moskov', 'London', 'Rome', 'Tokio', 'Toronto', 'New York', 'Madrid', 'Berlin']\n"
          ]
        }
      ],
      "source": [
        "print(random.sample(Lista, 9))"
      ]
    },
    {
      "cell_type": "markdown",
      "metadata": {
        "id": "5wS4O1OdYc3z"
      },
      "source": [
        "La función shuffle() 'mezcla' o cambia aleatoriamente el orden de los elementos de una lista antes de realizar la selección de alguno de ellos."
      ]
    },
    {
      "cell_type": "code",
      "execution_count": 33,
      "metadata": {
        "id": "QVFwEIS7Yc30",
        "outputId": "89fbe6cd-b0b6-40bf-cfe5-0f7fc59f5293",
        "colab": {
          "base_uri": "https://localhost:8080/"
        }
      },
      "outputs": [
        {
          "output_type": "stream",
          "name": "stdout",
          "text": [
            "mezcla1 ['Berlin', 'Los Angeles', 'Toronto', 'Paris', 'Tokio', 'New York', 'Moskov', 'Rome', 'Madrid', 'London']\n"
          ]
        }
      ],
      "source": [
        "random.shuffle(Lista)\n",
        "print('mezcla1', Lista)"
      ]
    },
    {
      "cell_type": "markdown",
      "metadata": {
        "id": "7uta_LWVYc30"
      },
      "source": [
        "## Ejercicio:\n",
        "\n",
        "1. Elegir al azar una ciudad de la Lista despues de hacer una mezcla.\n",
        "2. Elegir al azar tres ciudades después de una mezcla."
      ]
    },
    {
      "cell_type": "code",
      "source": [
        "random.shuffle(Lista)\n",
        "print(\"Lista mescalda = \",Lista)\n",
        "City = random.choice(Lista)\n",
        "print (\"La ciudad elegida es ->  \", City)\n",
        "\n",
        "seleccion = []\n",
        "for i in range(3):\n",
        "  seleccion.append(random.choice(Lista))\n",
        "\n",
        "print(seleccion)\n"
      ],
      "metadata": {
        "id": "UFvTTp3xeT5g",
        "outputId": "4204eafa-d912-49e0-cb5a-f9bf3c158bc1",
        "colab": {
          "base_uri": "https://localhost:8080/"
        }
      },
      "execution_count": 40,
      "outputs": [
        {
          "output_type": "stream",
          "name": "stdout",
          "text": [
            "Lista mescalda =  ['Los Angeles', 'Toronto', 'New York', 'Madrid', 'Paris', 'Tokio', 'Moskov', 'Rome', 'London', 'Berlin']\n",
            "La ciudad elegida es ->   Rome\n",
            "['Paris', 'Toronto', 'Los Angeles']\n"
          ]
        }
      ]
    },
    {
      "cell_type": "markdown",
      "metadata": {
        "id": "o7gNcD_gYc30"
      },
      "source": [
        "La función random.gaus() genera una muestra de números aleatorios normalmente distribuidos."
      ]
    },
    {
      "cell_type": "code",
      "execution_count": 46,
      "metadata": {
        "id": "7Qw8VBusYc30",
        "outputId": "34a8dad2-eb60-4d82-dfe3-6b884ea85bcf",
        "colab": {
          "base_uri": "https://localhost:8080/",
          "height": 430
        }
      },
      "outputs": [
        {
          "output_type": "display_data",
          "data": {
            "text/plain": [
              "<Figure size 640x480 with 1 Axes>"
            ],
            "image/png": "[encoded data removed]"
          },
          "metadata": {}
        }
      ],
      "source": [
        "#Generamos una lista de 100 números aleatorios normalmente distribuidos.\n",
        "\n",
        "nums = []\n",
        "mu = 100\n",
        "sigma = 50\n",
        "\n",
        "for i in range(100):\n",
        "    temp = random.gauss(mu, sigma)\n",
        "    nums.append(temp)\n",
        "\n",
        "plt.plot(nums)\n",
        "plt.show()"
      ]
    },
    {
      "cell_type": "code",
      "execution_count": 48,
      "metadata": {
        "id": "xOL74zRkYc30",
        "outputId": "6591c2ab-b933-49fb-b561-8ebd9c793bef",
        "colab": {
          "base_uri": "https://localhost:8080/",
          "height": 430
        }
      },
      "outputs": [
        {
          "output_type": "display_data",
          "data": {
            "text/plain": [
              "<Figure size 640x480 with 1 Axes>"
            ],
            "image/png": "[encoded data removed]"
          },
          "metadata": {}
        }
      ],
      "source": [
        "# Construimos el histograma de una muestra de 10000 números aleatorios normalmente distribuidos\n",
        "\n",
        "nums = []\n",
        "mu = 100\n",
        "sigma = 50\n",
        "\n",
        "for i in range(10000):\n",
        "    temp = random.gauss(mu, sigma)\n",
        "    nums.append(temp)\n",
        "\n",
        "plt.hist(nums, bins = 200)\n",
        "plt.show()\n"
      ]
    },
    {
      "cell_type": "markdown",
      "metadata": {
        "id": "Prknt2LnYc30"
      },
      "source": [
        "## Ejercicio:\n",
        "\n",
        "1. Generar muestras e histograma de las funciones:\n",
        "    triangular(), betavariate(), expovariate(), gammavariate(),\n",
        "    lognormvariate(), normalvariate(), vonmisesvariate(), paretovariate() y weibullvariate()"
      ]
    },
    {
      "cell_type": "code",
      "source": [
        "nums = []\n",
        "inf = 1\n",
        "sup = 100\n",
        "\n",
        "for i in range(10000):\n",
        "    temp = random.triangular(inf, sup)\n",
        "    nums.append(temp)\n",
        "\n",
        "plt.hist(nums, bins = 200)\n",
        "plt.show()"
      ],
      "metadata": {
        "id": "GtZM2b_VgS0x",
        "outputId": "df29ae4b-a45c-4902-9dd5-fea3e6c5f06d",
        "colab": {
          "base_uri": "https://localhost:8080/",
          "height": 430
        }
      },
      "execution_count": 49,
      "outputs": [
        {
          "output_type": "display_data",
          "data": {
            "text/plain": [
              "<Figure size 640x480 with 1 Axes>"
            ],
            "image/png": "[encoded data removed]"
          },
          "metadata": {}
        }
      ]
    },
    {
      "cell_type": "code",
      "source": [
        "nums = []\n",
        "inf = 2\n",
        "sup = 10\n",
        "\n",
        "for i in range(10000):\n",
        "    temp = random.betavariate(inf, sup)\n",
        "    nums.append(temp)\n",
        "\n",
        "plt.hist(nums, bins = 200)\n",
        "plt.show()"
      ],
      "metadata": {
        "id": "QyzBBXLdhnzi",
        "outputId": "8ad22d6c-9fc0-4471-da62-bc923fb75da7",
        "colab": {
          "base_uri": "https://localhost:8080/",
          "height": 430
        }
      },
      "execution_count": 50,
      "outputs": [
        {
          "output_type": "display_data",
          "data": {
            "text/plain": [
              "<Figure size 640x480 with 1 Axes>"
            ],
            "image/png": "[encoded data removed]"
          },
          "metadata": {}
        }
      ]
    },
    {
      "cell_type": "code",
      "source": [
        "nums = []\n",
        "\n",
        "lamda = 1.5\n",
        "\n",
        "for i in range(10000):\n",
        "    temp = random.expovariate(lamda)\n",
        "    nums.append(temp)\n",
        "\n",
        "plt.hist(nums, bins = 200)\n",
        "plt.show()"
      ],
      "metadata": {
        "id": "tER2JM1OiDCJ",
        "outputId": "4e54d01e-d526-4f93-e4f7-d5da6b5f19b7",
        "colab": {
          "base_uri": "https://localhost:8080/",
          "height": 430
        }
      },
      "execution_count": 51,
      "outputs": [
        {
          "output_type": "display_data",
          "data": {
            "text/plain": [
              "<Figure size 640x480 with 1 Axes>"
            ],
            "image/png": "[encoded data removed]"
          },
          "metadata": {}
        }
      ]
    },
    {
      "cell_type": "code",
      "source": [
        "nums = []\n",
        "alpha = 10\n",
        "beta = 50\n",
        "\n",
        "for i in range(10000):\n",
        "    temp = random.gammavariate(alpha,beta)\n",
        "    nums.append(temp)\n",
        "\n",
        "plt.hist(nums, bins = 200)\n",
        "plt.show()"
      ],
      "metadata": {
        "id": "GKMci5PbibgK",
        "outputId": "38ddf8e9-834f-4196-acb9-5d98333e3217",
        "colab": {
          "base_uri": "https://localhost:8080/",
          "height": 430
        }
      },
      "execution_count": 54,
      "outputs": [
        {
          "output_type": "display_data",
          "data": {
            "text/plain": [
              "<Figure size 640x480 with 1 Axes>"
            ],
            "image/png": "[encoded data removed]"
          },
          "metadata": {}
        }
      ]
    },
    {
      "cell_type": "code",
      "source": [
        "mu = 0.1\n",
        "sigma = 1\n",
        "\n",
        "nums = []\n",
        "\n",
        "for i in range(10000):\n",
        "    temp = random.lognormvariate(mu,sigma)\n",
        "    nums.append(temp)\n",
        "\n",
        "plt.hist(nums, bins = 200)\n",
        "plt.show()\n",
        "\n"
      ],
      "metadata": {
        "id": "0s53Qf5UjDz1",
        "outputId": "c4c02fa6-e03a-4e7c-e74b-2ed5ea0b3b68",
        "colab": {
          "base_uri": "https://localhost:8080/",
          "height": 430
        }
      },
      "execution_count": 58,
      "outputs": [
        {
          "output_type": "display_data",
          "data": {
            "text/plain": [
              "<Figure size 640x480 with 1 Axes>"
            ],
            "image/png": "[encoded data removed]"
          },
          "metadata": {}
        }
      ]
    },
    {
      "cell_type": "code",
      "source": [
        "\n",
        "nums = []\n",
        "mu = 100\n",
        "sigma = 50\n",
        "for i in range(10000):\n",
        "    temp = random.normalvariate(mu,sigma)\n",
        "    nums.append(temp)\n",
        "\n",
        "plt.hist(nums, bins = 200)\n",
        "plt.show()"
      ],
      "metadata": {
        "id": "pL6-TaqCjkcL",
        "outputId": "aa7d4c08-cc3a-41f0-c04c-f774c3a6ea57",
        "colab": {
          "base_uri": "https://localhost:8080/",
          "height": 430
        }
      },
      "execution_count": 59,
      "outputs": [
        {
          "output_type": "display_data",
          "data": {
            "text/plain": [
              "<Figure size 640x480 with 1 Axes>"
            ],
            "image/png": "[encoded data removed]"
          },
          "metadata": {}
        }
      ]
    },
    {
      "cell_type": "code",
      "source": [
        "nums = []\n",
        "mu = 0\n",
        "kappa = 4\n",
        "for i in range(10000):\n",
        "    temp = random.vonmisesvariate(mu,kappa)\n",
        "    nums.append(temp)\n",
        "\n",
        "plt.hist(nums, bins = 200)\n",
        "plt.show()"
      ],
      "metadata": {
        "id": "dHREa_f4kEIx",
        "outputId": "e224a7e1-aa3f-4f99-a2b6-d53a2943064e",
        "colab": {
          "base_uri": "https://localhost:8080/",
          "height": 430
        }
      },
      "execution_count": 60,
      "outputs": [
        {
          "output_type": "display_data",
          "data": {
            "text/plain": [
              "<Figure size 640x480 with 1 Axes>"
            ],
            "image/png": "[encoded data removed]"
          },
          "metadata": {}
        }
      ]
    },
    {
      "cell_type": "code",
      "source": [
        "nums = []\n",
        "alpha = 2.5\n",
        "for i in range(3000):\n",
        "    temp = random.paretovariate(alpha)\n",
        "    nums.append(temp)\n",
        "\n",
        "plt.hist(nums, bins = 200)\n",
        "plt.show()"
      ],
      "metadata": {
        "id": "U8s_xwhJkpEK",
        "outputId": "7d308baa-7392-4f64-8ff8-c370ca77ff17",
        "colab": {
          "base_uri": "https://localhost:8080/",
          "height": 430
        }
      },
      "execution_count": 64,
      "outputs": [
        {
          "output_type": "display_data",
          "data": {
            "text/plain": [
              "<Figure size 640x480 with 1 Axes>"
            ],
            "image/png": "[encoded data removed]"
          },
          "metadata": {}
        }
      ]
    },
    {
      "cell_type": "code",
      "source": [
        "nums = []\n",
        "alpha = 1.5\n",
        "beta = 4.5\n",
        "\n",
        "for i in range(10000):\n",
        "    temp = random.weibullvariate(alpha,beta)\n",
        "    nums.append(temp)\n",
        "\n",
        "plt.hist(nums, bins = 300)\n",
        "plt.show()"
      ],
      "metadata": {
        "id": "shb3vNBJlDEk",
        "outputId": "766a0edd-01ba-4d0f-b9b6-0ae5c90a48ad",
        "colab": {
          "base_uri": "https://localhost:8080/",
          "height": 430
        }
      },
      "execution_count": 70,
      "outputs": [
        {
          "output_type": "display_data",
          "data": {
            "text/plain": [
              "<Figure size 640x480 with 1 Axes>"
            ],
            "image/png": "[encoded data removed]"
          },
          "metadata": {}
        }
      ]
    },
    {
      "cell_type": "markdown",
      "metadata": {
        "id": "MpAlBMuaYc30"
      },
      "source": [
        "## Podemos simular diversas variables aleatorias a partir de un generador de números aleatorios (uniformemente distribuidos)."
      ]
    },
    {
      "cell_type": "markdown",
      "metadata": {
        "id": "Q_SDeOnyYc30"
      },
      "source": [
        "### La distribución exponencial\n",
        "\n",
        "Función de densidad:\n",
        "    \n",
        "$f_X (x) = \\lambda e^{-\\lambda x}$  para $x \\geq 0$\n",
        "\n",
        "y función de distribución:\n",
        "\n",
        "$F_X (x) = 1 - e^{-\\lambda x}$  para $x \\geq 0$"
      ]
    },
    {
      "cell_type": "markdown",
      "metadata": {
        "id": "5kk2-NJSYc31"
      },
      "source": [
        "Puede ser simulada por el método de inversión mediante el siguiente algoritmo:\n",
        "\n",
        "0. Hacer $L = -\\frac{1}{\\lambda}$\n",
        "1. Generar $U \\sim U(0, 1)$\n",
        "2. Devolver $X = L \\cdot Ln(U)$"
      ]
    },
    {
      "cell_type": "code",
      "execution_count": null,
      "metadata": {
        "id": "BuFJGGX8Yc31"
      },
      "outputs": [],
      "source": [
        "import random                                   # importamos el módulo random\n",
        "import numpy as np                              # importamos numpy con un alias (np)\n",
        "import matplotlib.pyplot as plt                 # ídem\n",
        "#from random import expovariate, gauss\n",
        "from statistics import mean, median, variance, stdev      # exportamos funciones especificas de statistics"
      ]
    },
    {
      "cell_type": "code",
      "execution_count": null,
      "metadata": {
        "id": "aVuBw2GiYc31"
      },
      "outputs": [],
      "source": [
        "#Generamos una lista de números aleatorios que siguen la distribución exponencial.\n",
        "\n",
        "nums = []\n",
        "lamb = 0.01                                     # Párametro de la función exponencial\n",
        "L = -1.0/lamb #inversa de lambda\n",
        "\n",
        "for i in range(100):\n",
        "    temp = L*np.log(random.random())            # Pasos 1 y 2\n",
        "    nums.append(temp)\n",
        "\n",
        "plt.plot(nums)\n",
        "plt.show()"
      ]
    },
    {
      "cell_type": "code",
      "execution_count": null,
      "metadata": {
        "id": "2COpXVP7Yc31"
      },
      "outputs": [],
      "source": [
        "nums = []\n",
        "lamb = 0.01                                     # Párametro de la función exponencial\n",
        "L = -1.0/lamb #inversa de lambda\n",
        "\n",
        "for i in range(1000):\n",
        "    temp = L*np.log(random.random())\n",
        "    nums.append(temp)\n",
        "\n",
        "plt.hist(nums, bins = 100)\n",
        "plt.show()\n"
      ]
    },
    {
      "cell_type": "markdown",
      "metadata": {
        "id": "DeV4ZoTDYc31"
      },
      "source": [
        "### Lo podemos comparar con la salida de la función expovariate()"
      ]
    },
    {
      "cell_type": "code",
      "execution_count": null,
      "metadata": {
        "id": "qi0_801LYc31"
      },
      "outputs": [],
      "source": [
        "# Construimos el histograma de una muestra de 10000 números aleatorios normalmente distribuidos\n",
        "\n",
        "nums = []\n",
        "lamb = 0.01\n",
        "\n",
        "\n",
        "for i in range(1000):\n",
        "    temp = random.expovariate(lamb)\n",
        "    nums.append(temp)\n",
        "\n",
        "plt.hist(nums, bins = 100)\n",
        "plt.show()\n"
      ]
    },
    {
      "cell_type": "markdown",
      "metadata": {
        "id": "YqZbfFpGYc32"
      },
      "source": [
        "Que se puede obtener de esta otra manera:"
      ]
    },
    {
      "cell_type": "code",
      "execution_count": null,
      "metadata": {
        "id": "XmUUSB_1Yc32"
      },
      "outputs": [],
      "source": [
        "#plt.figure(figsize = (8, 4))\n",
        "plt.hist([random.expovariate(100) for i in range(10000)], bins = 200)\n",
        "plt.show()"
      ]
    },
    {
      "cell_type": "markdown",
      "metadata": {
        "id": "8oq4SccSYc32"
      },
      "source": [
        "Y podemos usar el módulo statistics para obtener algunos parámetros del histograma."
      ]
    },
    {
      "cell_type": "code",
      "execution_count": null,
      "metadata": {
        "id": "VhXApeQIYc33"
      },
      "outputs": [],
      "source": [
        "#plt.figure(figsize = (8, 4))\n",
        "sample = [random.expovariate(0.01) for i in range(1000)]\n",
        "plt.hist(sample, bins = 200)\n",
        "plt.show()\n",
        "\n",
        "print(f'Media: {mean(sample):.5f}.  Mediana: {median(sample):.5f}.')\n",
        "print(f'Varianza: {variance(sample):.5f}.  Desviación estándar: {stdev(sample):.5f}.')"
      ]
    },
    {
      "cell_type": "markdown",
      "metadata": {
        "id": "6uwzev2pYc33"
      },
      "source": [
        "## Ejercicio (03032022):\n",
        "\n",
        "Simular dos distribuciones de probabilidad (no la normal, no la exponencial), por el método que prefieran."
      ]
    },
    {
      "cell_type": "code",
      "execution_count": null,
      "metadata": {
        "id": "ueCfXSXaYc33"
      },
      "outputs": [],
      "source": []
    }
  ],
  "metadata": {
    "kernelspec": {
      "display_name": "Python 3",
      "language": "python",
      "name": "python3"
    },
    "language_info": {
      "codemirror_mode": {
        "name": "ipython",
        "version": 3
      },
      "file_extension": ".py",
      "mimetype": "text/x-python",
      "name": "python",
      "nbconvert_exporter": "python",
      "pygments_lexer": "ipython3",
      "version": "3.7.3"
    },
    "colab": {
      "provenance": []
    }
  },
  "nbformat": 4,
  "nbformat_minor": 0
}