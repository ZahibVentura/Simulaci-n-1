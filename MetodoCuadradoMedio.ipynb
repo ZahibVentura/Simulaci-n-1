{
  "nbformat": 4,
  "nbformat_minor": 0,
  "metadata": {
    "colab": {
      "provenance": [],
      "authorship_tag": "ABX9TyN4sWOSAqrJoOS0AOWEeR86",
      "include_colab_link": true
    },
    "kernelspec": {
      "name": "python3",
      "display_name": "Python 3"
    },
    "language_info": {
      "name": "python"
    }
  },
  "cells": [
    {
      "cell_type": "markdown",
      "metadata": {
        "id": "view-in-github",
        "colab_type": "text"
      },
      "source": [
        "<a href=\"https://colab.research.google.com/github/ZahibVentura/Simulaci-n-1/blob/main/MetodoCuadradoMedio.ipynb\" target=\"_parent\"><img src=\"https://colab.research.google.com/assets/colab-badge.svg\" alt=\"Open In Colab\"/></a>"
      ]
    },
    {
      "cell_type": "code",
      "execution_count": 3,
      "metadata": {
        "colab": {
          "base_uri": "https://localhost:8080/"
        },
        "id": "6s8lcvWzSCre",
        "outputId": "db3a2125-32fd-4b7f-dd68-30dcff62701e"
      },
      "outputs": [
        {
          "output_type": "stream",
          "name": "stdout",
          "text": [
            "Ingrese un número para empezar: 3742\n",
            "Ingrese el número de iteraciones que necesite: 25\n",
            "+----+------+----------+------+\n",
            "| i  |  X0  |   X0^2   |  Q   |\n",
            "+----+------+----------+------+\n",
            "| 1  | 3742 | 14002564 |  25  |\n",
            "| 2  |  25  |   625    | 625  |\n",
            "| 3  | 625  |  390625  | 9062 |\n",
            "| 4  | 9062 | 82119844 | 1198 |\n",
            "| 5  | 1198 | 1435204  | 4352 |\n",
            "| 6  | 4352 | 18939904 | 9399 |\n",
            "| 7  | 9399 | 88341201 | 3412 |\n",
            "| 8  | 3412 | 11641744 | 6417 |\n",
            "| 9  | 6417 | 41177889 | 1778 |\n",
            "| 10 | 1778 | 3161284  | 1612 |\n",
            "| 11 | 1612 | 2598544  | 5985 |\n",
            "| 12 | 5985 | 35820225 | 8202 |\n",
            "| 13 | 8202 | 67272804 | 2728 |\n",
            "| 14 | 2728 | 7441984  | 4419 |\n",
            "| 15 | 4419 | 19527561 | 5275 |\n",
            "| 16 | 5275 | 27825625 | 8256 |\n",
            "| 17 | 8256 | 68161536 | 1615 |\n",
            "| 18 | 1615 | 2608225  | 6082 |\n",
            "| 19 | 6082 | 36990724 | 9907 |\n",
            "| 20 | 9907 | 98148649 | 1486 |\n",
            "| 21 | 1486 | 2208196  | 2081 |\n",
            "| 22 | 2081 | 4330561  | 3305 |\n",
            "| 23 | 3305 | 10923025 | 9230 |\n",
            "| 24 | 9230 | 85192900 | 1929 |\n",
            "| 25 | 1929 | 3721041  | 7210 |\n",
            "+----+------+----------+------+\n"
          ]
        }
      ],
      "source": [
        "#Metodo de cuadrado medio\n",
        "\n",
        "\"\"\" este algoritmo toma como número aleatorio al numero de n digitos al\n",
        "igual que la semilla, que se encuentra en medio del resultado de elevar al\n",
        "cuadrado la semilla\n",
        " \"\"\"\n",
        "from prettytable import PrettyTable\n",
        "\n",
        "X0=int(input('Ingrese un número para empezar: ')) #se pide la semilla para empezar\n",
        "iteracion = int(input('Ingrese el número de iteraciones que necesite: ')) #se pide las iteraciones\n",
        "caracter=str(X0)\n",
        "n=len(caracter) #contamos cuantos digitos tiene el número ingresado por el usuario\n",
        "\n",
        "Tabla = PrettyTable(['i','X0','X0^2','Q']) #creamos una tabla para almacenar los resultados en cada iteración\n",
        "\n",
        "for i in range(iteracion):\n",
        "  cuadrado=X0**2 #se eleva al cuadrado el la semilla y se guarda en una variable\n",
        "  caracter_cuadrado=str(cuadrado)\n",
        "  N=len(caracter_cuadrado) #contamos el número de digitos del cuadrado\n",
        "\n",
        "  \"\"\" la siguiente sección de codigo toma el número aleatorio para el\n",
        "  caso de que el numero ingresado por el usuario se de cifras sea par o impar\n",
        "  y para el caso del número de cifra del cuadrado sea par o impar  \"\"\"\n",
        "  if n%2==0:\n",
        "    if N%2==0: #caso par y par\n",
        "      t=int(n/2)\n",
        "      s=int(N/2)\n",
        "      Q=int(caracter_cuadrado[s-t:s+t]) #se guarda el numero aleatorio en una variable\n",
        "    else:\n",
        "      C='0'+caracter_cuadrado #caso par e impar\n",
        "      t=int(n/2)\n",
        "      s=int(len(C)/2)\n",
        "      Q=int(C[s-t:s+t]) #guarda el numero aleatorio en una variable\n",
        "  else:\n",
        "    if N%2==0: #caso impar y par\n",
        "      C='0'+caracter_cuadrado\n",
        "      t=int((n-1)/2)\n",
        "      s=int((N/2)+1)\n",
        "      Q=int(C[s-t-1:s+t]) #guarda el numero aleatorio en una variable\n",
        "    else: #caso impar e impar\n",
        "      t=int((n-1)/2)\n",
        "      s=int((N+1)/2)\n",
        "      Q=int(caracter_cuadrado[s-t-1:s+t]) #guarda el numero aleatorio en una variable\n",
        "  Lista=[i+1,X0,cuadrado,Q]\n",
        "  Tabla.add_row(Lista) #anadimos los calores de cada iteracion a la tabla\n",
        "  X0=Q #se reasigna el numero aleatorio como semilla\n",
        "\n",
        "\n",
        "print(Tabla)"
      ]
    }
  ]
}