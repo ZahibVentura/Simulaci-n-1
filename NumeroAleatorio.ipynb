{
  "nbformat": 4,
  "nbformat_minor": 0,
  "metadata": {
    "colab": {
      "provenance": [],
      "authorship_tag": "ABX9TyNsmYBEGR1DbZNldbxJoJlk",
      "include_colab_link": true
    },
    "kernelspec": {
      "name": "python3",
      "display_name": "Python 3"
    },
    "language_info": {
      "name": "python"
    }
  },
  "cells": [
    {
      "cell_type": "markdown",
      "metadata": {
        "id": "view-in-github",
        "colab_type": "text"
      },
      "source": [
        "<a href=\"https://colab.research.google.com/github/ZahibVentura/Simulaci-n-1/blob/main/NumeroAleatorio.ipynb\" target=\"_parent\"><img src=\"https://colab.research.google.com/assets/colab-badge.svg\" alt=\"Open In Colab\"/></a>"
      ]
    },
    {
      "cell_type": "code",
      "execution_count": 45,
      "metadata": {
        "colab": {
          "base_uri": "https://localhost:8080/"
        },
        "id": "MnAh74GD2-ln",
        "outputId": "61336cd3-c482-4cab-b9fb-6b47c740e153"
      },
      "outputs": [
        {
          "output_type": "stream",
          "name": "stdout",
          "text": [
            "[6, 7, 3, 1, 1, 5, 4, 0]\n",
            "[0, 4, 5, 1, 1, 3, 7, 6]\n"
          ]
        }
      ],
      "source": [
        "import math\n",
        "X0=2124\n",
        "X02 = X0*X0\n",
        "Lista = []\n",
        "if X02>1000:\n",
        "  for i in range(8):\n",
        "    aux = X02/10\n",
        "    AUX = math.trunc(aux)\n",
        "    x=(aux-AUX)*10\n",
        "    Lista.append(round(x))\n",
        "    X02 = AUX\n",
        "print(Lista)\n",
        "\n",
        "Lista.reverse()\n",
        "print(Lista)\n",
        "\n",
        "\n"
      ]
    }
  ]
}