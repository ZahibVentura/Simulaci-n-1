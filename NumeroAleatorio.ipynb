{
  "nbformat": 4,
  "nbformat_minor": 0,
  "metadata": {
    "colab": {
      "provenance": [],
      "authorship_tag": "ABX9TyP/EwtdO7hL2U6pR4VKLS15",
      "include_colab_link": true
    },
    "kernelspec": {
      "name": "python3",
      "display_name": "Python 3"
    },
    "language_info": {
      "name": "python"
    }
  },
  "cells": [
    {
      "cell_type": "markdown",
      "metadata": {
        "id": "view-in-github",
        "colab_type": "text"
      },
      "source": [
        "<a href=\"https://colab.research.google.com/github/ZahibVentura/Simulaci-n-1/blob/main/NumeroAleatorio.ipynb\" target=\"_parent\"><img src=\"https://colab.research.google.com/assets/colab-badge.svg\" alt=\"Open In Colab\"/></a>"
      ]
    },
    {
      "cell_type": "code",
      "execution_count": null,
      "metadata": {
        "colab": {
          "base_uri": "https://localhost:8080/"
        },
        "id": "MnAh74GD2-ln",
        "outputId": "61336cd3-c482-4cab-b9fb-6b47c740e153"
      },
      "outputs": [
        {
          "output_type": "stream",
          "name": "stdout",
          "text": [
            "[6, 7, 3, 1, 1, 5, 4, 0]\n",
            "[0, 4, 5, 1, 1, 3, 7, 6]\n"
          ]
        }
      ],
      "source": [
        "import math\n",
        "X0=2124\n",
        "X02 = X0*X0\n",
        "Lista = []\n",
        "if X02>1000:\n",
        "  for i in range(8):\n",
        "    aux = X02/10\n",
        "    AUX = math.trunc(aux)\n",
        "    x=(aux-AUX)*10\n",
        "    Lista.append(round(x))\n",
        "    X02 = AUX\n",
        "print(Lista)\n",
        "\n",
        "Lista.reverse()\n",
        "print(Lista)\n",
        "\n",
        "\n"
      ]
    },
    {
      "cell_type": "code",
      "source": [
        "Numero = int(input('Ingrese un numero de 4 cifras: '))\n",
        "dicci = {'N':'Numero','C':'N.al cuadrado', 'D':'4 digitos'}\n",
        "print(' ')\n",
        "print(dicci['N'],' ',dicci['C'],' ',dicci['D'])\n",
        "\n",
        "for i in range(10):\n",
        "  Alcuadrado = Numero**2\n",
        "  Caracter_numero = str(Alcuadrado)\n",
        "\n",
        "  if len(Caracter_numero)%2 == 0:\n",
        "    j=int(len(Caracter_numero)/2)\n",
        "\n",
        "    #guarda los cuatro digitos del medio\n",
        "    n=int(Caracter_numero[j-2:j+2])\n",
        "\n",
        "  else:\n",
        "    N_par = '0' + Caracter_numero\n",
        "    j=int(len(N_par)/2)\n",
        "    #guarda los 4 digitos del medio\n",
        "    n=int(N_par[j-2:j+2])\n",
        "\n",
        "  print(Numero,'     ', Alcuadrado,'       ', n)\n",
        "  Numero=n\n",
        "\n",
        "print('Numero aleatorio: ',n)\n"
      ],
      "metadata": {
        "id": "Lj17jOsjyODw",
        "outputId": "9cf9180f-d00a-435a-ba31-733b338084e2",
        "colab": {
          "base_uri": "https://localhost:8080/"
        }
      },
      "execution_count": 13,
      "outputs": [
        {
          "output_type": "stream",
          "name": "stdout",
          "text": [
            "Ingrese un numero de 4 cifras: 2441\n",
            " \n",
            "Numero   N.al cuadrado   4 digitos\n",
            "2441       5958481         9584\n",
            "9584       91853056         8530\n",
            "8530       72760900         7609\n",
            "7609       57896881         8968\n",
            "8968       80425024         4250\n",
            "4250       18062500         625\n",
            "625       390625         9062\n",
            "9062       82119844         1198\n",
            "1198       1435204         4352\n",
            "4352       18939904         9399\n",
            "Numero aleatorio:  9399\n"
          ]
        }
      ]
    }
  ]
}