{
  "nbformat": 4,
  "nbformat_minor": 0,
  "metadata": {
    "colab": {
      "provenance": [],
      "authorship_tag": "ABX9TyMDrTY5BTCTbx4wSCivp5qt",
      "include_colab_link": true
    },
    "kernelspec": {
      "name": "python3",
      "display_name": "Python 3"
    },
    "language_info": {
      "name": "python"
    }
  },
  "cells": [
    {
      "cell_type": "markdown",
      "metadata": {
        "id": "view-in-github",
        "colab_type": "text"
      },
      "source": [
        "<a href=\"https://colab.research.google.com/github/ZahibVentura/Simulaci-n-1/blob/main/PruebaK_S.ipynb\" target=\"_parent\"><img src=\"https://colab.research.google.com/assets/colab-badge.svg\" alt=\"Open In Colab\"/></a>"
      ]
    },
    {
      "cell_type": "code",
      "execution_count": 19,
      "metadata": {
        "colab": {
          "base_uri": "https://localhost:8080/"
        },
        "id": "hmj_kM5MEO2y",
        "outputId": "bbf983ce-e2c1-47f1-9ea4-d2a0dc522c37"
      },
      "outputs": [
        {
          "output_type": "stream",
          "name": "stdout",
          "text": [
            "El numero de datos en la lista son:  50\n",
            "Ingresa el valor de la distribucion K-S conisderando la significancia y No.datos: 0.1246\n",
            "\n",
            "\n",
            "D+:  0.0988\n",
            "D-:  0.1188\n",
            "+----+--------+--------+--------+\n",
            "| i  |   xi   |   D-   |   D+   |\n",
            "+----+--------+--------+--------+\n",
            "| 1  | 0.0318 | 0.0518 | 0.0318 |\n",
            "| 2  | 0.0856 | 0.0856 | 0.0656 |\n",
            "| 3  | 0.0954 | 0.0754 | 0.0554 |\n",
            "| 4  | 0.1492 | 0.1092 | 0.0892 |\n",
            "| 5  | 0.1525 | 0.0925 | 0.0725 |\n",
            "| 6  | 0.1592 | 0.0792 | 0.0592 |\n",
            "| 7  | 0.2006 | 0.1006 | 0.0806 |\n",
            "| 8  | 0.2088 | 0.0888 | 0.0688 |\n",
            "| 9  | 0.2204 | 0.0804 | 0.0604 |\n",
            "| 10 | 0.2258 | 0.0658 | 0.0458 |\n",
            "| 11 | 0.2415 | 0.0615 | 0.0415 |\n",
            "| 12 | 0.3188 | 0.1188 | 0.0988 |\n",
            "| 13 | 0.3254 | 0.1054 | 0.0854 |\n",
            "| 14 | 0.341  | 0.101  | 0.081  |\n",
            "| 15 | 0.3469 | 0.0869 | 0.0669 |\n",
            "| 16 | 0.3681 | 0.0881 | 0.0681 |\n",
            "| 17 | 0.3808 | 0.0808 | 0.0608 |\n",
            "| 18 | 0.3884 | 0.0684 | 0.0484 |\n",
            "| 19 | 0.4272 | 0.0872 | 0.0672 |\n",
            "| 20 | 0.4557 | 0.0957 | 0.0757 |\n",
            "| 21 | 0.4603 | 0.0803 | 0.0603 |\n",
            "| 22 | 0.472  | 0.072  | 0.052  |\n",
            "| 23 | 0.5027 | 0.0827 | 0.0627 |\n",
            "| 24 | 0.5291 | 0.0891 | 0.0691 |\n",
            "| 25 | 0.5461 | 0.0861 | 0.0661 |\n",
            "| 26 | 0.5613 | 0.0813 | 0.0613 |\n",
            "| 27 | 0.5739 | 0.0739 | 0.0539 |\n",
            "| 28 | 0.5844 | 0.0644 | 0.0444 |\n",
            "| 29 | 0.5991 | 0.0591 | 0.0391 |\n",
            "| 30 | 0.5992 | 0.0392 | 0.0192 |\n",
            "| 31 | 0.5999 | 0.0199 | 0.0001 |\n",
            "| 32 | 0.6235 | 0.0235 | 0.0035 |\n",
            "| 33 | 0.6289 | 0.0089 | 0.0111 |\n",
            "| 34 | 0.636  | 0.004  | 0.024  |\n",
            "| 35 | 0.6431 | 0.0169 | 0.0369 |\n",
            "| 36 | 0.7387 | 0.0587 | 0.0387 |\n",
            "| 37 | 0.7401 | 0.0401 | 0.0201 |\n",
            "| 38 | 0.7977 | 0.0777 | 0.0577 |\n",
            "| 39 | 0.8147 | 0.0747 | 0.0547 |\n",
            "| 40 | 0.8376 | 0.0776 | 0.0576 |\n",
            "| 41 | 0.8536 | 0.0736 | 0.0536 |\n",
            "| 42 | 0.8589 | 0.0589 | 0.0389 |\n",
            "| 43 | 0.8681 | 0.0481 | 0.0281 |\n",
            "| 44 | 0.875  | 0.035  | 0.015  |\n",
            "| 45 | 0.8797 | 0.0197 | 0.0003 |\n",
            "| 46 | 0.8846 | 0.0046 | 0.0154 |\n",
            "| 47 | 0.917  | 0.017  | 0.003  |\n",
            "| 48 | 0.9606 | 0.0406 | 0.0206 |\n",
            "| 49 | 0.9848 | 0.0448 | 0.0248 |\n",
            "| 50 | 0.9996 | 0.0396 | 0.0196 |\n",
            "+----+--------+--------+--------+\n",
            "El punto crítico es:  0.1188 \n",
            "\n",
            "Como  0.1188  <  0.1246\n",
            "se acepta la hipotesis Nula\n"
          ]
        }
      ],
      "source": [
        " #prueba Kolmogorov\n",
        "from prettytable import PrettyTable\n",
        "#lista con los numeros aleatorios a trabajar\n",
        "numeros = [0.8797, 0.3884, 0.6289, 0.8750, 0.5999, 0.8589, 0.9996, 0.2415, 0.3808, 0.9606,\n",
        "           0.9848, 0.3469, 0.7977, 0.5844, 0.8147, 0.6431, 0.7387, 0.5613, 0.0318, 0.7401,\n",
        "           0.4557, 0.1592, 0.8536, 0.8846, 0.3410, 0.1492, 0.8681, 0.5291, 0.3188, 0.5992,\n",
        "           0.9170, 0.2204, 0.5991, 0.5461, 0.5739, 0.3254, 0.0856, 0.2258, 0.4603, 0.5027,\n",
        "           0.8376, 0.6235, 0.3681, 0.2088, 0.1525, 0.2006, 0.4720, 0.4272, 0.6360, 0.0954]\n",
        "\n",
        "\n",
        "print('El numero de datos en la lista son: ',len(numeros))\n",
        "#se imprime el numero de datos para que usuario identifique en la tabla K-S e ingrese el valor\n",
        "Critico = float(input('Ingresa el valor de la distribucion K-S conisderando la significancia y No.datos: '))\n",
        "\n",
        "Lista_ordenada = sorted(numeros) #lista que almacena los datos ordenados (menor a mayor) de la lista numeros\n",
        "#listas auxiliares para encontrar los Di+ y Di-\n",
        "Lista_Dp = []\n",
        "Lista_Dm = []\n",
        "Tabla=PrettyTable(['i','xi','D-','D+']) #se crea una tabla para almacenar los valores en cada iteración\n",
        "\n",
        "#ciclo for para llenar las listas auxiliares\n",
        "for i in range(len(numeros)):\n",
        "\n",
        "    Dp=abs((i)/len(numeros) - Lista_ordenada[i])\n",
        "    Lista_Dp.append(Dp)\n",
        "    Dm=abs(Lista_ordenada[i] - (i-1)/len(numeros))\n",
        "    Lista_Dm.append(Dm)\n",
        "    Tabla.add_row([i+1,Lista_ordenada[i],round(Lista_Dm[i],4),round(Lista_Dp[i],4)]) #agregamos un nuevo renglon a la tabla\n",
        "\n",
        "#se calcula el maximo de cada lista\n",
        "Maxi_Dp = round(max(Lista_Dp),4)\n",
        "Mini_Dm = round(max(Lista_Dm),4)\n",
        "\n",
        "#condicion para encontrar el maximo D\n",
        "if Maxi_Dp >= Mini_Dm:\n",
        "  D=Maxi_Dp\n",
        "else:\n",
        "  D=Mini_Dm\n",
        "\n",
        "#imprimimos resultados\n",
        "print('\\n')\n",
        "print('D+: ',Maxi_Dp)\n",
        "print('D-: ',Mini_Dm)\n",
        "print(Tabla)\n",
        "print('El punto crítico es: ',D,\"\\n\")\n",
        "\n",
        "#condicion para aceptar o rechazar la hipótesis\n",
        "if D<Critico:\n",
        "  print('Como ',D,' < ',Critico)\n",
        "  print('se acepta la hipotesis Nula')\n",
        "else:\n",
        "  print('Como ',D,' >= ',Critico)\n",
        "  print('se rechaza la hipotesis Nula')"
      ]
    }
  ]
}