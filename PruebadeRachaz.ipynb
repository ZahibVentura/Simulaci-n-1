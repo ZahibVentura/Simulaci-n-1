{
  "nbformat": 4,
  "nbformat_minor": 0,
  "metadata": {
    "colab": {
      "provenance": [],
      "authorship_tag": "ABX9TyOZtzTpgudCMoIkiNpbw6i0",
      "include_colab_link": true
    },
    "kernelspec": {
      "name": "python3",
      "display_name": "Python 3"
    },
    "language_info": {
      "name": "python"
    }
  },
  "cells": [
    {
      "cell_type": "markdown",
      "metadata": {
        "id": "view-in-github",
        "colab_type": "text"
      },
      "source": [
        "<a href=\"https://colab.research.google.com/github/ZahibVentura/Simulaci-n-1/blob/main/PruebadeRachaz.ipynb\" target=\"_parent\"><img src=\"https://colab.research.google.com/assets/colab-badge.svg\" alt=\"Open In Colab\"/></a>"
      ]
    },
    {
      "cell_type": "code",
      "source": [
        "#prueba de corridas\n",
        "from math import sqrt\n",
        "from scipy.stats import norm\n",
        "#funcion definida para calcular el valor critico\n",
        "def Nivel_significancia(s):\n",
        "    # Calcular el valor de Z para un nivel de significancia dado\n",
        "    z = norm.ppf(1 -s/2)\n",
        "    return z\n",
        "\n",
        "significancia = float(input('Ingresa el nivel de significancia: ')) #e pide el nivel se significancia\n",
        "\n",
        "datos = [0.048, 0.591, 0.478, 0.166, 0.932,\n",
        "         0.926, 0.007, 0.551, 0.362, 0.533,\n",
        "         0.368, 0.437, 0.178, 0.411, 0.545,\n",
        "         0.787, 0.594, 0.086, 0.951, 0.772,\n",
        "         0.298, 0.199, 0.157, 0.401, 0.631]  #se guradan los datos en una lista, el usuario puede ingresarlos de este manera o podemos pedir dato por dato\n",
        "\n",
        "Lista_aux = []\n",
        "\"\"\"definimos una lista que nos ayudara a almacenar\n",
        "                  el numero de rachas, será 1 si Xi+1 > Xi y 0\n",
        "                  si ocurre lo contrario, para cada Xi en la lista \"\"\"\n",
        "Corridas=1 #variable que nos ayudara a contar las rachas\n",
        "\n",
        "#se llena la Lista_aux dadas las condiciones mencionadas\n",
        "for i in range(len(datos)-1):\n",
        "  C= datos[i+1]-datos[i]\n",
        "  if C<=0:\n",
        "    Lista_aux.append(0)\n",
        "  else:\n",
        "    Lista_aux.append(1)\n",
        "\n",
        "#se cuenta el numero de rachas\n",
        "for j in range(len(Lista_aux)-1):\n",
        "  if Lista_aux[j]!=Lista_aux[j+1]:\n",
        "    Corridas += 1\n",
        "  else:\n",
        "    continue\n",
        "\n",
        "\n",
        "#calculando el valor esperado, la varianza y desviación estándar\n",
        "Media = (2*len(datos)-1)/3\n",
        "Varianza = (16*len(datos) - 29)/90\n",
        "Desviacion_estandar = sqrt(Varianza)\n",
        "\n",
        "#calculando el estadistico Zo\n",
        "Z0 = (Corridas - Media)/Desviacion_estandar\n",
        "Z_alpha = round(Nivel_significancia(significancia),4)\n",
        "\n",
        "print('El número de rachaz son: ', Corridas)\n",
        "print('El estadistico Zo es: ',round(Z0,4),\"\\n\")\n",
        "\n",
        "#condicionales para aceptar o rechazar la hiposis nula\n",
        "if -Z_alpha <= Z0 <= Z_alpha:\n",
        "  print('como ',-Z_alpha,'<=',round(Z0,4),'<=',Z_alpha)\n",
        "  print('Se acepta la hiposis nula')\n",
        "else:\n",
        "  if Z0 > Z_alpha:\n",
        "    print('como',Z0,'>',Z_alpha)\n",
        "    print('se rechaza la hiposis nula')\n",
        "  elif Z0 < -Z_alpha:\n",
        "     print('como',Z0,'<',-Z_alpha)\n",
        "     print('se rechaza la hiposis nula')\n",
        "\n",
        "\n"
      ],
      "metadata": {
        "id": "1EcE9fKAWQZu",
        "colab": {
          "base_uri": "https://localhost:8080/"
        },
        "outputId": "f6244c32-07f3-4993-a7f7-d86ab85542a4"
      },
      "execution_count": 8,
      "outputs": [
        {
          "output_type": "stream",
          "name": "stdout",
          "text": [
            "Ingresa el nivel de significancia: 0.05\n",
            "El número de rachaz son:  15\n",
            "El estadistico Zo es:  -0.6567 \n",
            "\n",
            "como  -1.96 <= -0.6567 <= 1.96\n",
            "Se acepta la hiposis nula\n"
          ]
        }
      ]
    }
  ]
}