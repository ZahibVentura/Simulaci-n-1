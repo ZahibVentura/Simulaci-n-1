{
  "nbformat": 4,
  "nbformat_minor": 0,
  "metadata": {
    "colab": {
      "provenance": [],
      "authorship_tag": "ABX9TyPSPkHMZDraAttNtCuigcg4",
      "include_colab_link": true
    },
    "kernelspec": {
      "name": "python3",
      "display_name": "Python 3"
    },
    "language_info": {
      "name": "python"
    }
  },
  "cells": [
    {
      "cell_type": "markdown",
      "metadata": {
        "id": "view-in-github",
        "colab_type": "text"
      },
      "source": [
        "<a href=\"https://colab.research.google.com/github/ZahibVentura/Simulaci-n-1/blob/main/Sololearn.ipynb\" target=\"_parent\"><img src=\"https://colab.research.google.com/assets/colab-badge.svg\" alt=\"Open In Colab\"/></a>"
      ]
    },
    {
      "cell_type": "code",
      "execution_count": null,
      "metadata": {
        "colab": {
          "base_uri": "https://localhost:8080/"
        },
        "id": "KVZfhpamqaZj",
        "outputId": "9b9426f5-d62f-4ad0-8562-b836a2962066"
      },
      "outputs": [
        {
          "output_type": "stream",
          "name": "stdout",
          "text": [
            "['celular', 'tablet', 'laptop', 'pc']\n"
          ]
        }
      ],
      "source": [
        "dispositivo_electronico = [\n",
        "    'celular',\n",
        "    'tablet',\n",
        "    'laptop',\n",
        "    'pc'\n",
        "]\n",
        "\n",
        "print(dispositivo_electronico)"
      ]
    },
    {
      "cell_type": "code",
      "source": [
        "numeros = [1,2,3,4,5]\n",
        "print(numeros[:3])\n",
        "print(numeros[2:])"
      ],
      "metadata": {
        "id": "qxW0oErFGwWa",
        "colab": {
          "base_uri": "https://localhost:8080/"
        },
        "outputId": "1aed5fb2-8c2d-4bba-df9b-49df1c5f4878"
      },
      "execution_count": null,
      "outputs": [
        {
          "output_type": "stream",
          "name": "stdout",
          "text": [
            "[1, 2, 3]\n",
            "[3, 4, 5]\n"
          ]
        }
      ]
    },
    {
      "cell_type": "code",
      "source": [
        "rngos = ['Rey','Reina','Peon']\n",
        "sets = ['diamante','trevol','picas']\n",
        "for r in rangos:\n",
        "  for s in sets:\n",
        "    print(r,s)"
      ],
      "metadata": {
        "colab": {
          "base_uri": "https://localhost:8080/"
        },
        "id": "zYRKKNbcB99x",
        "outputId": "583f1daf-5536-4d0c-940a-80bc5b16e84a"
      },
      "execution_count": null,
      "outputs": [
        {
          "output_type": "stream",
          "name": "stdout",
          "text": [
            "Rey diamante\n",
            "Rey trevol\n",
            "Rey picas\n",
            "Reina diamante\n",
            "Reina trevol\n",
            "Reina picas\n",
            "Peon diamante\n",
            "Peon trevol\n",
            "Peon picas\n"
          ]
        }
      ]
    },
    {
      "cell_type": "markdown",
      "source": [],
      "metadata": {
        "id": "O97dHjzNhJjy"
      }
    },
    {
      "cell_type": "code",
      "source": [
        "rangos = ['Rey','Reina','Ass']\n",
        "sets = ['diamante','trevol','picas']\n",
        "for r in rangos:\n",
        "  print('\\n')\n",
        "  print(r + ':')\n",
        "  for s in sets:\n",
        "      print(s)"
      ],
      "metadata": {
        "colab": {
          "base_uri": "https://localhost:8080/"
        },
        "id": "02VG6ngjhGFA",
        "outputId": "bedde0eb-65fc-4d77-cc1c-d011e7fe0da8"
      },
      "execution_count": null,
      "outputs": [
        {
          "output_type": "stream",
          "name": "stdout",
          "text": [
            "\n",
            "\n",
            "Rey:\n",
            "diamante\n",
            "trevol\n",
            "picas\n",
            "\n",
            "\n",
            "Reina:\n",
            "diamante\n",
            "trevol\n",
            "picas\n",
            "\n",
            "\n",
            "Ass:\n",
            "diamante\n",
            "trevol\n",
            "picas\n"
          ]
        }
      ]
    },
    {
      "cell_type": "code",
      "source": [
        "from re import A\n",
        "a=range(3)\n",
        "print(a)\n",
        "for i in a:\n",
        "  print(i)"
      ],
      "metadata": {
        "colab": {
          "base_uri": "https://localhost:8080/"
        },
        "id": "tBQfnpy8iTZj",
        "outputId": "7b6f26ac-8503-4072-bfd5-8f9fdd8adbda"
      },
      "execution_count": null,
      "outputs": [
        {
          "output_type": "stream",
          "name": "stdout",
          "text": [
            "range(0, 3)\n",
            "0\n",
            "1\n",
            "2\n"
          ]
        }
      ]
    },
    {
      "cell_type": "code",
      "source": [
        "colores = ['azul','rojo','verde']\n",
        "for color in colores:\n",
        "  for i in range(3):\n",
        "    print(color)"
      ],
      "metadata": {
        "colab": {
          "base_uri": "https://localhost:8080/"
        },
        "id": "ZAMtQF7Nk4ZQ",
        "outputId": "19e0e76e-4ac4-4044-a64c-203f2db497c0"
      },
      "execution_count": null,
      "outputs": [
        {
          "output_type": "stream",
          "name": "stdout",
          "text": [
            "azul\n",
            "azul\n",
            "azul\n",
            "rojo\n",
            "rojo\n",
            "rojo\n",
            "verde\n",
            "verde\n",
            "verde\n"
          ]
        }
      ]
    },
    {
      "cell_type": "code",
      "source": [],
      "metadata": {
        "id": "lZ7lxH8nd9mY"
      },
      "execution_count": null,
      "outputs": []
    },
    {
      "cell_type": "code",
      "source": [
        "Edad=[12,14,17,38,85,63]\n",
        "for i in Edad:\n",
        "  if i>=18:\n",
        "    continue\n",
        "  print(i)"
      ],
      "metadata": {
        "colab": {
          "base_uri": "https://localhost:8080/"
        },
        "id": "m6a4ajzqNY2v",
        "outputId": "8a79d37b-9f1e-4dda-c3d9-2ad5310aa879"
      },
      "execution_count": null,
      "outputs": [
        {
          "output_type": "stream",
          "name": "stdout",
          "text": [
            "12\n",
            "14\n",
            "17\n"
          ]
        }
      ]
    },
    {
      "cell_type": "code",
      "source": [
        "print(type(5))\n",
        "A=range(4)\n",
        "print(A)"
      ],
      "metadata": {
        "colab": {
          "base_uri": "https://localhost:8080/"
        },
        "id": "YZ4I12PfncsS",
        "outputId": "1d953320-68f7-4112-d2f0-6af25b9dad3f"
      },
      "execution_count": null,
      "outputs": [
        {
          "output_type": "stream",
          "name": "stdout",
          "text": [
            "<class 'int'>\n",
            "range(0, 4)\n"
          ]
        }
      ]
    },
    {
      "cell_type": "code",
      "source": [
        "cad1='DgrFggFn'\n",
        "cad2='fhgUhtTR'\n",
        "\n",
        "cad1.upper()\n",
        "cad2.lower()\n",
        "cad1.capitalize()\n",
        "\n",
        "'Bee'.find('e')\n",
        "print('Bee'.find('E'))"
      ],
      "metadata": {
        "colab": {
          "base_uri": "https://localhost:8080/"
        },
        "id": "Npj4xSN3pWIE",
        "outputId": "033b5ca4-b284-47d2-96d9-e6db06ae942d"
      },
      "execution_count": null,
      "outputs": [
        {
          "output_type": "stream",
          "name": "stdout",
          "text": [
            "-1\n"
          ]
        }
      ]
    },
    {
      "cell_type": "code",
      "source": [
        "util = ['lapiz','pluma','sacapuntas']\n",
        "util.insert(2,'goma')\n",
        "print(util)\n",
        "util.pop(0)\n",
        "print(util)"
      ],
      "metadata": {
        "colab": {
          "base_uri": "https://localhost:8080/"
        },
        "id": "4EmNfUotuiDD",
        "outputId": "60525540-cb89-44b0-c1ba-86907f88ca36"
      },
      "execution_count": null,
      "outputs": [
        {
          "output_type": "stream",
          "name": "stdout",
          "text": [
            "['lapiz', 'pluma', 'goma', 'sacapuntas']\n",
            "['pluma', 'goma', 'sacapuntas']\n"
          ]
        }
      ]
    },
    {
      "cell_type": "code",
      "source": [
        " def Hacho(a,b):\n",
        "  suma = a+b\n",
        "  return suma\n",
        "\n",
        "print(Hacho(13,17))"
      ],
      "metadata": {
        "colab": {
          "base_uri": "https://localhost:8080/"
        },
        "id": "ajrUwVDj2CfH",
        "outputId": "923f4a6d-c894-4657-9f66-74e4d4c5daec"
      },
      "execution_count": null,
      "outputs": [
        {
          "output_type": "stream",
          "name": "stdout",
          "text": [
            "30\n"
          ]
        }
      ]
    },
    {
      "cell_type": "code",
      "source": [
        "def rectangulo(base,altura):\n",
        "  area = base*altura\n",
        "  perimetro = 2*base + 2*altura\n",
        "  return area, perimetro\n",
        "\n",
        "x,y=rectangulo(2,3)\n",
        "\n",
        "print(y)"
      ],
      "metadata": {
        "colab": {
          "base_uri": "https://localhost:8080/"
        },
        "id": "2-UUFwPx4YMI",
        "outputId": "49c63e72-9b22-4339-d365-7a6a343cfae5"
      },
      "execution_count": null,
      "outputs": [
        {
          "output_type": "stream",
          "name": "stdout",
          "text": [
            "10\n"
          ]
        }
      ]
    },
    {
      "cell_type": "code",
      "source": [
        "def mensaje(valor):\n",
        "  if valor == True:\n",
        "    print('se arma')\n",
        "  else:\n",
        "    print('nel perro')\n",
        "Z=True\n",
        "mensaje(False)"
      ],
      "metadata": {
        "colab": {
          "base_uri": "https://localhost:8080/"
        },
        "id": "3fav0qLfrNKw",
        "outputId": "83e3b910-1551-4003-8a08-a3f0eabf8365"
      },
      "execution_count": null,
      "outputs": [
        {
          "output_type": "stream",
          "name": "stdout",
          "text": [
            "nel perro\n"
          ]
        }
      ]
    },
    {
      "cell_type": "code",
      "source": [
        "listicima=[26,52,27,18,93]\n",
        "Lista_ordenada=sorted(listicima)\n",
        "print(Lista_ordenada)"
      ],
      "metadata": {
        "colab": {
          "base_uri": "https://localhost:8080/"
        },
        "id": "ilAVGq956O_3",
        "outputId": "6adeb9cd-2398-4759-db26-8108d26b1384"
      },
      "execution_count": null,
      "outputs": [
        {
          "output_type": "stream",
          "name": "stdout",
          "text": [
            "[18, 26, 27, 52, 93]\n"
          ]
        }
      ]
    },
    {
      "cell_type": "code",
      "source": [
        "#tuplas\n",
        "uno = (1,3,6,4,2,6,4,1,5,3)\n",
        "print(uno.count(3))\n",
        "dos = (98,97,96,95)\n",
        "a,c,*b=dos\n",
        "print(b)"
      ],
      "metadata": {
        "colab": {
          "base_uri": "https://localhost:8080/"
        },
        "id": "pqtXg-mWeHNM",
        "outputId": "4ab85277-cb92-4688-ca21-0727dc3c20ee"
      },
      "execution_count": null,
      "outputs": [
        {
          "output_type": "stream",
          "name": "stdout",
          "text": [
            "2\n",
            "[96, 95]\n"
          ]
        }
      ]
    },
    {
      "cell_type": "code",
      "source": [
        "#sets\n",
        "\n",
        "dado = {2,3,5,6,3}\n",
        "print(dado)\n",
        "\n",
        "dado.remove(3)\n",
        "print(dado)\n",
        "\n",
        "dado.add(1)\n",
        "\n",
        "print(dado)\n",
        "dado.clear()\n",
        "\n",
        "print(dado)\n",
        "dado.add(4)\n",
        "moneda={'cara','cruz'}\n",
        "\n",
        "evento = dado.union(moneda)\n",
        "print(evento)\n"
      ],
      "metadata": {
        "colab": {
          "base_uri": "https://localhost:8080/"
        },
        "id": "UmmpWrISeDfT",
        "outputId": "168c73b6-d556-4163-cdfa-bcac45246df0"
      },
      "execution_count": null,
      "outputs": [
        {
          "output_type": "stream",
          "name": "stdout",
          "text": [
            "{2, 3, 5, 6}\n",
            "{2, 5, 6}\n",
            "{1, 2, 5, 6}\n",
            "set()\n",
            "{4, 'cruz', 'cara'}\n"
          ]
        }
      ]
    },
    {
      "cell_type": "code",
      "source": [
        "n=[1,2,3,4,5,6]\n",
        "j=int(len(n)/2)+1\n",
        "print(j)"
      ],
      "metadata": {
        "colab": {
          "base_uri": "https://localhost:8080/"
        },
        "id": "VFnZJeXLoY7u",
        "outputId": "99172ca7-6966-4fa4-bad2-45f845b50964"
      },
      "execution_count": null,
      "outputs": [
        {
          "output_type": "stream",
          "name": "stdout",
          "text": [
            "4\n"
          ]
        }
      ]
    }
  ]
}