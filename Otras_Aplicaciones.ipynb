{
  "nbformat": 4,
  "nbformat_minor": 0,
  "metadata": {
    "colab": {
      "provenance": [],
      "authorship_tag": "ABX9TyOXaL0p/f685s755IeJRLFW",
      "include_colab_link": true
    },
    "kernelspec": {
      "name": "python3",
      "display_name": "Python 3"
    },
    "language_info": {
      "name": "python"
    }
  },
  "cells": [
    {
      "cell_type": "markdown",
      "metadata": {
        "id": "view-in-github",
        "colab_type": "text"
      },
      "source": [
        "<a href=\"https://colab.research.google.com/github/ZahibVentura/Simulaci-n-1/blob/main/Otras_Aplicaciones.ipynb\" target=\"_parent\"><img src=\"https://colab.research.google.com/assets/colab-badge.svg\" alt=\"Open In Colab\"/></a>"
      ]
    },
    {
      "cell_type": "markdown",
      "source": [
        "###Problema\n",
        "\n",
        "El famoso juego $7-11$, requiere que el jugador lance 2 dados una o más veces hasta tomar la decisión de que se gana o se pierde el juego. El juego se gana si en el primer lanzamiento los dados suman $7$ u $11$, ó aparece un $4, 5, 6, 8, 9$ ó $10$ en el primer lanzamiento y la misma suma reaparece antes de que aparezca un $7$.\n",
        "\n",
        "Por otra parte, el juego se pierde si en el primer lanzamiento los dados suman $2, 3$ ó $12$, o aparece un $4, 5, 6, 8, 9$ ó $10$ en el primer lanzamiento y luego sale un $7$ antes de que se repita el primer lanzamiento. Si el valor de la apuesta es de $\\$1$ y la ganancia cada vez que se gana un juego es de $\\$1$, ¿Cuál es la probabilidad de quiebras si la cantidad inicial disponible es de $\\$20$?  (asuma que el juego también se termina cuando se acumulan $\\$50$)"
      ],
      "metadata": {
        "id": "YSS3r2PbWxdd"
      }
    },
    {
      "cell_type": "code",
      "source": [
        "import random as rd\n",
        "import numpy as np\n",
        "import matplotlib.pyplot as plt\n",
        "import scipy.stats as stats"
      ],
      "metadata": {
        "id": "Okpr4Ke_b-sl"
      },
      "execution_count": 20,
      "outputs": []
    },
    {
      "cell_type": "code",
      "source": [
        "def tirar_dados():\n",
        "    \"\"\"\n",
        "    Simula el lanzamiento de dos dados y determina el evento que ocurre (ganancia, pérdida o punto).\n",
        "    \"\"\"\n",
        "    eventos = {1: [7, 11], 2: [2, 3, 12], 3: [4, 5, 6, 8, 9, 10]}\n",
        "\n",
        "    dado1 = rd.randint(1, 6)  # Tiramos dado 1\n",
        "    dado2 = rd.randint(1, 6)  # Tiramos dado 2\n",
        "\n",
        "    suma_dados = dado1 + dado2  # Sumamos los valores de los dados\n",
        "    estado = False\n",
        "    evento = 1\n",
        "    while not estado:\n",
        "        if evento in eventos and suma_dados in eventos[evento]:\n",
        "            estado = True\n",
        "            return evento, suma_dados  # Regresamos el evento y la suma de los dados\n",
        "        else:\n",
        "            evento += 1"
      ],
      "metadata": {
        "id": "kf3ixCAkcLEM"
      },
      "execution_count": 14,
      "outputs": []
    },
    {
      "cell_type": "code",
      "source": [
        "def evento_punto(punto_objetivo):\n",
        "    \"\"\"\n",
        "    Simula el evento 'punto' hasta que el jugador gane o pierda.\n",
        "    \"\"\"\n",
        "    estado = True\n",
        "    ganancia = 0\n",
        "    perdida = 0\n",
        "    while estado:\n",
        "        _, suma_punto = tirar_dados()  # Lanzamos los dados nuevamente\n",
        "\n",
        "        if suma_punto == punto_objetivo:  # Si la suma es igual al punto objetivo, ganamos\n",
        "            ganancia = 1\n",
        "            estado = False\n",
        "            turno = False\n",
        "            return ganancia, perdida, turno\n",
        "\n",
        "        elif suma_punto == 7:  # Si la suma es 7, perdemos\n",
        "            perdida = 1\n",
        "            estado = False\n",
        "            turno = False\n",
        "            return ganancia, perdida, turno"
      ],
      "metadata": {
        "id": "3aQsVyWvcL8W"
      },
      "execution_count": 22,
      "outputs": []
    },
    {
      "cell_type": "code",
      "source": [
        "def jugar():\n",
        "    \"\"\"\n",
        "    Simula el juego para un jugador.\n",
        "    \"\"\"\n",
        "    ganancia = 0\n",
        "    perdida = 0\n",
        "    turno = True\n",
        "    while turno:\n",
        "        evento, suma_dados = tirar_dados()  # Lanzamos los dados\n",
        "\n",
        "        if evento == 1:  # Ganamos $1\n",
        "            ganancia = 1\n",
        "            turno = False\n",
        "            return ganancia, perdida\n",
        "        elif evento == 2:  # Perdemos $1\n",
        "            perdida = 1\n",
        "            turno = False\n",
        "            return ganancia, perdida\n",
        "        elif evento == 3:  # Evento 'punto'\n",
        "            ganancia, perdida, turno = evento_punto(suma_dados)\n",
        "            return ganancia, perdida"
      ],
      "metadata": {
        "id": "oSaZP8_OcQTx"
      },
      "execution_count": 23,
      "outputs": []
    },
    {
      "cell_type": "code",
      "source": [
        "def simular_juego():\n",
        "    \"\"\"\n",
        "    Simula el juego completo entre dos jugadores.\n",
        "    \"\"\"\n",
        "    saldo_neto = 20  # Inicialmente tenemos $20 para jugar\n",
        "    jugador_actual = rd.randint(1, 2)  # Determinamos aleatoriamente quién empieza\n",
        "\n",
        "    while True:\n",
        "        ganancia, perdida = jugar()  # El jugador actual tira los dados\n",
        "        saldo_neto += ganancia - perdida  # Actualizamos el saldo neto\n",
        "\n",
        "        if saldo_neto <= 0:  # Evaluamos si el saldo es 0 o menos\n",
        "            return 0  # Perdimos todo el dinero\n",
        "        elif saldo_neto >= 70:  # Evaluamos si el saldo es 70 o más\n",
        "            return 1  # Ganamos $50\n",
        "\n",
        "        if perdida == 1:  # Si hay pérdida, cambiamos el turno al otro jugador\n",
        "            jugador_actual = 3 - jugador_actual  # Alterna entre 1 y 2"
      ],
      "metadata": {
        "id": "OGFmwxaGeVH3"
      },
      "execution_count": 24,
      "outputs": []
    },
    {
      "cell_type": "code",
      "source": [
        "def estimar_probabilidad(iteraciones):\n",
        "    \"\"\"\n",
        "    Estima la probabilidad de quedarse sin dinero después de un número dado de iteraciones.\n",
        "    \"\"\"\n",
        "    probabilidades = []\n",
        "    exitos = 0\n",
        "    for i in range(iteraciones):\n",
        "        resultado = simular_juego()\n",
        "        if resultado == 0:  # Contamos los eventos en los que nos quedamos sin dinero\n",
        "            exitos += 1\n",
        "        probabilidad = exitos / (i + 1)\n",
        "        probabilidades.append(probabilidad)\n",
        "    return probabilidades"
      ],
      "metadata": {
        "id": "0As_P8UPchyY"
      },
      "execution_count": 25,
      "outputs": []
    },
    {
      "cell_type": "code",
      "source": [
        "# Estimación de la probabilidad de quedarse sin dinero\n",
        "resultados_estimacion = estimar_probabilidad(5000)\n",
        "\n",
        "media_resultados = np.mean(resultados_estimacion)  # Calculamos la media de las probabilidades\n",
        "desviacion_estandar = np.std(resultados_estimacion)  # Calculamos la desviación estándar\n",
        "\n",
        "print(\"Media de probabilidades = \", media_resultados)\n",
        "print(\"Desviación estándar = \", desviacion_estandar)\n",
        "\n",
        "# Graficamos un intervalo de confianza de un error estándar\n",
        "plt.axhline(media_resultados, color='r', linestyle='--')  # Media\n",
        "plt.axhline((desviacion_estandar + media_resultados), color='g')  # Límite superior del intervalo\n",
        "plt.axhline((-desviacion_estandar + media_resultados), color='g')  # Límite inferior del intervalo\n",
        "plt.plot(resultados_estimacion,color=\"k\")\n",
        "plt.show()"
      ],
      "metadata": {
        "colab": {
          "base_uri": "https://localhost:8080/",
          "height": 467
        },
        "id": "hHa5vlpJcmuS",
        "outputId": "3dfdee2e-0ee3-42e4-83fb-0e38aaeac43f"
      },
      "execution_count": 30,
      "outputs": [
        {
          "output_type": "stream",
          "name": "stdout",
          "text": [
            "Media de probabilidades =  0.8768777602688224\n",
            "Desviación estándar =  0.010948818421741448\n"
          ]
        },
        {
          "output_type": "display_data",
          "data": {
            "text/plain": [
              "<Figure size 640x480 with 1 Axes>"
            ],
            "image/png": "[encoded data removed]"
          },
          "metadata": {}
        }
      ]
    },
    {
      "cell_type": "markdown",
      "source": [
        "¿Cual valor de $N$ elegir?\n",
        "Se ve que una muestra $N\\approx 250$ da un resutado aceptable.\n",
        "\n",
        "Ademas:\n",
        "Estimamos un intervalo de confianza del 90% y dado que $n\\geq 30$:\n",
        "$$\\bar{x}-z_{\\frac{\\alpha}{2}} \\frac{\\sigma}{\\sqrt{n}}\\leq x\\leq \\bar{x}+z_{\\frac{\\alpha}{2}}\\frac{\\sigma}{\\sqrt{n}}$$\n"
      ],
      "metadata": {
        "id": "xA0GUzg4n2dK"
      }
    },
    {
      "cell_type": "code",
      "source": [
        "# Calculando el valor crítico de la distribución\n",
        "p_confianza = 0.90\n",
        "error_estandar = desviacion_estandar / (500 ** 0.5)\n",
        "valor_critico = stats.norm.ppf((1 + p_confianza) / 2)\n",
        "\n",
        "intervalo_inferior = media_resultados - valor_critico * error_estandar\n",
        "intervalo_superior = media_resultados + valor_critico * error_estandar\n",
        "\n",
        "print(f\"Intervalo de confianza del {p_confianza * 100}%: ({intervalo_inferior}, {intervalo_superior})\")"
      ],
      "metadata": {
        "colab": {
          "base_uri": "https://localhost:8080/"
        },
        "id": "_wzmKB4IcsuC",
        "outputId": "1896176a-5533-43f7-8316-07aa889ef0a4"
      },
      "execution_count": 32,
      "outputs": [
        {
          "output_type": "stream",
          "name": "stdout",
          "text": [
            "Intervalo de confianza del 90.0%: (0.8760723641953108, 0.877683156342334)\n"
          ]
        }
      ]
    },
    {
      "cell_type": "code",
      "source": [
        "# Simulación de múltiples experimentos\n",
        "num_experimentos = 25\n",
        "\n",
        "def simular_multiples_experimentos(num_experimentos):\n",
        "    \"\"\"\n",
        "    Realiza múltiples simulaciones del experimento de juego.\n",
        "    \"\"\"\n",
        "    resultados = []\n",
        "    for i in range(num_experimentos):\n",
        "        resultado_experimento = estimar_probabilidad(500)\n",
        "        resultados.append(resultado_experimento[-1])\n",
        "    return resultados\n",
        "\n",
        "resultados_simulacion = simular_multiples_experimentos(num_experimentos)\n",
        "plt.hist(resultados_simulacion, bins=10, edgecolor=\"black\")\n",
        "plt.show()"
      ],
      "metadata": {
        "colab": {
          "base_uri": "https://localhost:8080/",
          "height": 430
        },
        "id": "_7knrboVcxMh",
        "outputId": "1aef017f-864c-458a-b656-e8332924520f"
      },
      "execution_count": 35,
      "outputs": [
        {
          "output_type": "display_data",
          "data": {
            "text/plain": [
              "<Figure size 640x480 with 1 Axes>"
            ],
            "image/png": "[encoded data removed]"
          },
          "metadata": {}
        }
      ]
    }
  ]
}