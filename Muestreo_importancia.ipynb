{
  "nbformat": 4,
  "nbformat_minor": 0,
  "metadata": {
    "colab": {
      "provenance": [],
      "authorship_tag": "ABX9TyMY4y+bEGaHw7nSdmVRRkNx",
      "include_colab_link": true
    },
    "kernelspec": {
      "name": "python3",
      "display_name": "Python 3"
    },
    "language_info": {
      "name": "python"
    }
  },
  "cells": [
    {
      "cell_type": "markdown",
      "metadata": {
        "id": "view-in-github",
        "colab_type": "text"
      },
      "source": [
        "<a href=\"https://colab.research.google.com/github/ZahibVentura/Simulaci-n-1/blob/main/Muestreo_importancia.ipynb\" target=\"_parent\"><img src=\"https://colab.research.google.com/assets/colab-badge.svg\" alt=\"Open In Colab\"/></a>"
      ]
    },
    {
      "cell_type": "code",
      "execution_count": 4,
      "metadata": {
        "colab": {
          "base_uri": "https://localhost:8080/",
          "height": 430
        },
        "id": "Bv-kAu04qlhm",
        "outputId": "8093c8e4-42ea-46fa-940c-4fbbb0aab3f3"
      },
      "outputs": [
        {
          "output_type": "display_data",
          "data": {
            "text/plain": [
              "<Figure size 640x480 with 1 Axes>"
            ],
            "image/png": "[encoded data removed]"
          },
          "metadata": {}
        }
      ],
      "source": [
        "import random as rd\n",
        "import matplotlib.pyplot as plt   #importamos todas las librerias a utilizar\n",
        "import numpy as np\n",
        "\n",
        "#La función de la grafica es una f.d.p\n",
        "#Se comfunción siempre es positiva para todo X en el intervalo [4,6]\n",
        "#se aplica el método de la aceptación y rechazo para su simulación\n",
        "#tomando a c = 2 y g(x)= 1/2probó que la integral total da como resultado 1\n",
        "#además la\n",
        "\n",
        "#El siguiente código muestra la simulación de dicha función\n",
        "\n",
        "def funcion(N=50): #Definimos una función que regresa una lista de valores x\n",
        "  Lista = []\n",
        "  for i in range(N):\n",
        "    u = rd.uniform(0,1) #variable uniforme de 0 a 1\n",
        "    y = rd.uniform(0,1) #variable uniforme de 0 a 1\n",
        "    g = 3*(1 - y**2)/2\n",
        "\n",
        "    if u <= g/1.5 : #condicion para regresar x\n",
        "      x = y\n",
        "      Lista.append(x)\n",
        "  return Lista # se regresa la\n",
        "\n",
        "F = funcion(100000) #se manda a llamar a la función con 100000 iteraciones\n",
        "\n",
        "plt.hist(F,bins = 100)   #mostramos el histograma\n",
        "plt.show()"
      ]
    },
    {
      "cell_type": "code",
      "source": [
        "\n",
        "Lista1 = []\n",
        "sumita = 0\n",
        "T = funcion(1000)\n",
        "for j in range(len(T)):\n",
        "  f = np.cos((np.pi*T[j])/2)\n",
        "  G = 3*(1-T[j]**2)/2\n",
        "  Cociente = f / G\n",
        "  sumita += Cociente\n",
        "  prom = sumita / (j+1)\n",
        "  Lista1.append(prom)\n",
        "\n",
        "\n",
        "print(Lista1[-1])\n",
        "print(len(T))"
      ],
      "metadata": {
        "colab": {
          "base_uri": "https://localhost:8080/"
        },
        "id": "5zUgx2NDrwuG",
        "outputId": "d38c30ad-dacd-40ee-8d4d-0ec5a8d3337f"
      },
      "execution_count": 13,
      "outputs": [
        {
          "output_type": "stream",
          "name": "stdout",
          "text": [
            "0.6367615857245709\n",
            "641\n"
          ]
        }
      ]
    }
  ]
}