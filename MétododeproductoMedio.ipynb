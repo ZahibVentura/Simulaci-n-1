{
  "nbformat": 4,
  "nbformat_minor": 0,
  "metadata": {
    "colab": {
      "provenance": [],
      "authorship_tag": "ABX9TyPr+0zaFSywcOb818R5/lHw",
      "include_colab_link": true
    },
    "kernelspec": {
      "name": "python3",
      "display_name": "Python 3"
    },
    "language_info": {
      "name": "python"
    }
  },
  "cells": [
    {
      "cell_type": "markdown",
      "metadata": {
        "id": "view-in-github",
        "colab_type": "text"
      },
      "source": [
        "<a href=\"https://colab.research.google.com/github/ZahibVentura/Simulaci-n-1/blob/main/M%C3%A9tododeproductoMedio.ipynb\" target=\"_parent\"><img src=\"https://colab.research.google.com/assets/colab-badge.svg\" alt=\"Open In Colab\"/></a>"
      ]
    },
    {
      "cell_type": "code",
      "execution_count": 6,
      "metadata": {
        "colab": {
          "base_uri": "https://localhost:8080/"
        },
        "id": "InGQGVFjgM80",
        "outputId": "17df6476-20ba-490a-d846-af3f8a85f193"
      },
      "outputs": [
        {
          "output_type": "stream",
          "name": "stdout",
          "text": [
            "Ingresa un numero de n cifras: 345\n",
            "ingresa otro numero de n cifras: 789\n",
            "Ingrese cuantas iteraciones quiere: 30\n",
            "+----+-----+-----+--------+-----+\n",
            "| i  |  X0 |  X1 | X0*X1  |  Q  |\n",
            "+----+-----+-----+--------+-----+\n",
            "| 1  | 345 | 789 | 272205 | 722 |\n",
            "| 2  | 789 | 722 | 569658 | 696 |\n",
            "| 3  | 722 | 696 | 502512 |  25 |\n",
            "| 4  | 696 |  25 | 17400  | 740 |\n",
            "| 5  |  25 | 740 | 18500  | 850 |\n",
            "| 6  | 740 | 850 | 629000 | 290 |\n",
            "| 7  | 850 | 290 | 246500 | 465 |\n",
            "| 8  | 290 | 465 | 134850 | 348 |\n",
            "| 9  | 465 | 348 | 161820 | 618 |\n",
            "| 10 | 348 | 618 | 215064 | 150 |\n",
            "| 11 | 618 | 150 | 92700  | 270 |\n",
            "| 12 | 150 | 270 | 40500  |  50 |\n",
            "| 13 | 270 |  50 | 13500  | 350 |\n",
            "| 14 |  50 | 350 | 17500  | 750 |\n",
            "| 15 | 350 | 750 | 262500 | 625 |\n",
            "| 16 | 750 | 625 | 468750 | 687 |\n",
            "| 17 | 625 | 687 | 429375 | 293 |\n",
            "| 18 | 687 | 293 | 201291 |  12 |\n",
            "| 19 | 293 |  12 |  3516  | 351 |\n",
            "| 20 |  12 | 351 |  4212  | 421 |\n",
            "| 21 | 351 | 421 | 147771 | 477 |\n",
            "| 22 | 421 | 477 | 200817 |  8  |\n",
            "| 23 | 477 |  8  |  3816  | 381 |\n",
            "| 24 |  8  | 381 |  3048  | 304 |\n",
            "| 25 | 381 | 304 | 115824 | 158 |\n",
            "| 26 | 304 | 158 | 48032  | 803 |\n",
            "| 27 | 158 | 803 | 126874 | 268 |\n",
            "| 28 | 803 | 268 | 215204 | 152 |\n",
            "| 29 | 268 | 152 | 40736  |  73 |\n",
            "| 30 | 152 |  73 | 11096  | 109 |\n",
            "+----+-----+-----+--------+-----+\n"
          ]
        }
      ],
      "source": [
        "#Algoritmo de producto medio para generar numeros aleatorios\n",
        "\n",
        "\"\"\"Este algorimo calcula numeros aleatorios del porducto de dos números enteros\n",
        " que ingrese el usuario. Ambos numeros deben tener la misma cantidad de cifras ya que\n",
        " el numero aleatorio a tomar es el número que se encuentre en medio del resultado del producto\n",
        " que tenga las mismas cantidad de cifras que sus factores\"\"\"\n",
        "\n",
        "from prettytable import PrettyTable\n",
        "\n",
        "X0 = int(input('Ingresa un numero de n cifras: '))\n",
        "X1 = int(input('ingresa otro numero de n cifras: '))   #se ingresan dos números diferentes de igual numero de cifras\n",
        "iteracion = int(input('Ingrese cuantas iteraciones quiere: ')) #se pide al usuario cuantas iteraciones necesita\n",
        "Tabla = PrettyTable(['i','X0','X1','X0*X1','Q']) #creamos una tabla para guardar los valores en cada iteración\n",
        "\n",
        "#medimos cuantas cifras tienen los números ingresados\n",
        "n = len(str(X0))\n",
        "m = len(str(X1))\n",
        "\n",
        "if iteracion>=1: #condición necesaria para que el número de iteraciones (deben ser una o más itercaiones)\n",
        "  if n == m: # condición de ambos números deben ser igual en número de cifras\n",
        "    for i in range(iteracion):\n",
        "\n",
        "      producto = X0*X1 #realizamos el produco\n",
        "      C=str(producto)\n",
        "      \"\"\"\" la siguiente parte del codigo muestra las posibles combinaciones\n",
        "      debido al numero de cifras (par o impar) del numero ingresado por el ususario y del numero de\n",
        "      cifras (par o impar) que pueden resular del producto\"\"\"\n",
        "      if n%2 == 0:\n",
        "        if len(C) % 2 == 0: # caso par (numero) y par (producto)\n",
        "          j=int(len(C)/2)\n",
        "          s=int(n/2)\n",
        "          Q=int(C[j-s:j+s]) #guarda el número en la variable Q que se encuentra en el medio del producto\n",
        "\n",
        "        else: #caso par (numero) e impar (producto)\n",
        "          t='0'+ C\n",
        "          j=int(len(t)/2)\n",
        "          s=int(n/2)\n",
        "          Q=int(t[j-s:j+s]) #guarda el número en la variable Q que se encuentra en el medio del producto\n",
        "\n",
        "      else:\n",
        "        if len(C) % 2 == 0: #caso impar (numero) y par (producto)\n",
        "          t='0'+ C\n",
        "          j=int(len(C)/2)+1\n",
        "          s=int((n-1)/2)\n",
        "          Q=int(t[j-s-1:j+s]) #guarda el número en la variable Q que se encuentra en el medio del producto\n",
        "        else: #caso impar (numero) e impar (producto)\n",
        "          j=int((len(C)-1)/2)+1\n",
        "          s=int((n-1)/2)\n",
        "          Q=int(C[j-s-1:j+s]) #guarda el número en la variable Q que se encuentra en el medio del producto\n",
        "      listabla=[i+1,X0,X1,producto,Q] #gurdamos en una lista los valores del numero aleatori para anadirlo a la tabla\n",
        "      Tabla.add_row(listabla)\n",
        "      X0=X1\n",
        "      X1=Q #reasignamos las nueva semillas\n",
        "  else:\n",
        "    print('Ambos numeros son difernetes en la cantidad de cifras, favor de ingresar nuevamente')\n",
        "else:\n",
        "  print('Favor de ingresar un número entero')\n",
        "\n",
        "print(Tabla) #imprimimos la tabla de números aleatorios\n"
      ]
    }
  ]
}