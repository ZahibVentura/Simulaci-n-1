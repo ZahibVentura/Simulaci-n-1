{
  "nbformat": 4,
  "nbformat_minor": 0,
  "metadata": {
    "colab": {
      "provenance": [],
      "authorship_tag": "ABX9TyNrKnppm6rsuiqBpLNR31pa",
      "include_colab_link": true
    },
    "kernelspec": {
      "name": "python3",
      "display_name": "Python 3"
    },
    "language_info": {
      "name": "python"
    }
  },
  "cells": [
    {
      "cell_type": "markdown",
      "metadata": {
        "id": "view-in-github",
        "colab_type": "text"
      },
      "source": [
        "<a href=\"https://colab.research.google.com/github/ZahibVentura/Simulaci-n-1/blob/main/PruebaDeBondadDeAjuste.ipynb\" target=\"_parent\"><img src=\"https://colab.research.google.com/assets/colab-badge.svg\" alt=\"Open In Colab\"/></a>"
      ]
    },
    {
      "cell_type": "code",
      "execution_count": null,
      "metadata": {
        "id": "2iaYJg8TslNW"
      },
      "outputs": [],
      "source": [
        "elementos = int(input('Ingrese cuántos datos son'))\n",
        "Significancia = float(input('Ingresa el valor de significancia de la tabla ji-cuadrada: '))\n",
        "#categoria = int(input ('Ingrese el número de clases'))\n",
        "Lista=[]\n",
        "for i in range(elementos):\n",
        "  elemento_i = float(input('Numero: '))\n",
        "  Lista.append(elemento_i)\n",
        "a=0\n",
        "b=0\n",
        "c=0\n",
        "d=0\n",
        "e=0\n",
        "#establecemos los intervalos\n",
        "for i in Lista\n",
        "  if 0 <= i < 0.2:\n",
        "    a = a+1\n",
        "  elif 0.2 <= i < 0.4:\n",
        "    b = b+1\n",
        "  elif 0.4 <= i < 0.6:\n",
        "    c = c+1\n",
        "  elif 0.6 <= i < 0.8:\n",
        "    d = d+1\n",
        "  elif 0.8 <= i < 1.0:\n",
        "    e = e+1\n",
        "\n",
        "Intervalos={'1'= '(0-0.1999)',\n",
        "            '2'= '(0.2-3999)',\n",
        "            '3'= '(0.4-0.5999)',\n",
        "            '4'= '(0.6-0.7999)',\n",
        "            '5'= '(0.8-0.9999)'}\n",
        "Oi={'1'= a,\n",
        "            '2'= b,\n",
        "            '3'= c,\n",
        "            '4'= d,\n",
        "            '5'= e }\n",
        "\n",
        "X2=0\n",
        "Frecuencia_esperada = elementos/5\n",
        "\n",
        "\n",
        "for i in Intervalos:\n",
        "  diferencia=Oi[i]-Frecuencia_esperada\n",
        "  cuadrado_div = (diferencia**2)/Frecuencia_esperada\n",
        "  print(Intervalo[i],' ',Oi[i],' ',Frecuencia_esperada,' ', diferencia,' ',cuadrado_div)\n",
        "  X2=X2+cuadrado_div\n",
        "\n",
        "if X2<Significancia:\n",
        "  print('No se rechaza la hipotesis Ho')\n",
        "else:\n",
        "  print('Se rechaza Ho')"
      ]
    }
  ]
}