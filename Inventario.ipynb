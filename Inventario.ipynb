{
  "nbformat": 4,
  "nbformat_minor": 0,
  "metadata": {
    "colab": {
      "provenance": [],
      "authorship_tag": "ABX9TyNl2cxf9yGoOwG2YKkZDYDn",
      "include_colab_link": true
    },
    "kernelspec": {
      "name": "python3",
      "display_name": "Python 3"
    },
    "language_info": {
      "name": "python"
    }
  },
  "cells": [
    {
      "cell_type": "markdown",
      "metadata": {
        "id": "view-in-github",
        "colab_type": "text"
      },
      "source": [
        "<a href=\"https://colab.research.google.com/github/ZahibVentura/Simulaci-n-1/blob/main/Inventario.ipynb\" target=\"_parent\"><img src=\"https://colab.research.google.com/assets/colab-badge.svg\" alt=\"Open In Colab\"/></a>"
      ]
    },
    {
      "cell_type": "code",
      "source": [
        "import random as rd\n",
        "import matplotlib.pyplot as plt    #Importamos las librerias a utilizar\n",
        "import numpy as np\n",
        "from prettytable import PrettyTable as pt"
      ],
      "metadata": {
        "id": "JaqpXn6-KXjv"
      },
      "execution_count": 86,
      "outputs": []
    },
    {
      "cell_type": "markdown",
      "source": [
        "###Metodología\n",
        "\n",
        "Para este problema se debe simular la distribución del ejercicio, tanto para la dsitribución de probabilidad empírica de la demanda como la de los meses.\n",
        "\n",
        "Hay que considerar los factores estacionarios de cada uno de los meses de cada año.\n",
        "\n",
        "Simulamos la tabla para un solo año y calculamos costos de ese año.\n",
        "\n",
        "Se simula para $N$ años y ver cual es el costo total de la población.\n",
        "\n",
        "Aplicamos el algoritmo de Hooke-Jeeves para hallar la solución optima"
      ],
      "metadata": {
        "id": "pf2p2vkxS1B7"
      }
    },
    {
      "cell_type": "code",
      "source": [
        "cantidad = [35,36,37,38,39,40,41,42,43,44,45,46,47,48,49,50,51,52,53,54,55,56,57,58,59,60] #lista de cantidades\n",
        "probabilidad = [0.010,0.015,0.020,0.020,0.022,0.023,0.025,0.027,0.028,0.029,0.035,0.045,             #probabilidad de cada cantidad\n",
        "                0.060,0.065,0.070,0.080,0.075,0.070,0.065,0.06,0.050,0.040,0.030,0.016,0.015,0.005]"
      ],
      "metadata": {
        "id": "-JZNMWcUKiMG"
      },
      "execution_count": 87,
      "outputs": []
    },
    {
      "cell_type": "code",
      "source": [
        "#Guarda la acumulada de la lista de probabilidad\n",
        "L_acumulada = []\n",
        "acum = 0\n",
        "for i in probabilidad:\n",
        "    acum += i\n",
        "    L_acumulada.append(acum)"
      ],
      "metadata": {
        "id": "7uJ70a3ZNigJ"
      },
      "execution_count": 88,
      "outputs": []
    },
    {
      "cell_type": "code",
      "source": [
        "#Funcion que devuelve un valor de la ista cantidad dependiendo la lista acumulada\n",
        "def acumulada_inversa(u1=0.5):  #se define la función\n",
        "  for i in range(len(cantidad)):\n",
        "    if u1 < L_acumulada[i]:\n",
        "      return cantidad[0]\n",
        "    elif L_acumulada[i] <= u1 < L_acumulada[i+1]:\n",
        "      return cantidad[i+1]"
      ],
      "metadata": {
        "id": "0T6RvzfCOJfa"
      },
      "execution_count": 89,
      "outputs": []
    },
    {
      "cell_type": "code",
      "source": [
        "\n",
        "#Tiempos de entrega\n",
        "\n",
        "tiempo_entrega = [1,2,3]\n",
        "proba_entrega = [0.3,0.4,0.3]\n",
        "\n",
        "L_proba_entrega = []\n",
        "acum = 0\n",
        "for i in proba_entrega:\n",
        "    acum += i\n",
        "    L_proba_entrega.append(acum)"
      ],
      "metadata": {
        "id": "RqLsooXbUYtO"
      },
      "execution_count": 90,
      "outputs": []
    },
    {
      "cell_type": "code",
      "source": [
        "#Funcion que nos devuleve un tiempo de entrega respecto a su probabilidad\n",
        "def proba_inversa(u2 = 0.5):\n",
        "  for i in range(len(tiempo_entrega)):\n",
        "    if u2 < L_proba_entrega[i]:\n",
        "      return tiempo_entrega[0]\n",
        "    elif  L_proba_entrega[i] <= u2 < L_proba_entrega[i + 1]:\n",
        "      return tiempo_entrega[i + 1]"
      ],
      "metadata": {
        "id": "fEm8gPksWQ6l"
      },
      "execution_count": 91,
      "outputs": []
    },
    {
      "cell_type": "code",
      "source": [
        "# Lista y variables del ejercicio\n",
        "factor_estacionario = [1.2, 1.0, 0.9, 0.8, 0.8, 0.7, 0.8, 0.9, 1.0, 1.2, 1.3, 1.4]\n",
        "No_de_unidades_a_ordenar = 200\n",
        "inventario_inicial = 150\n",
        "reorden = 100"
      ],
      "metadata": {
        "id": "zH-nb29BcQhR"
      },
      "execution_count": 96,
      "outputs": []
    },
    {
      "cell_type": "code",
      "source": [
        "# Variables de control\n",
        "pedido_pendiente = False\n",
        "tiempo_pedido_pendiente = 0\n",
        "Total_de_ordenes = 0\n",
        "Falta_total = 0\n",
        "Total_IMP = 0"
      ],
      "metadata": {
        "id": "j57gb5efSeyE"
      },
      "execution_count": 97,
      "outputs": []
    },
    {
      "cell_type": "code",
      "source": [
        "# Inicialización de la tabla\n",
        "Tabla = pt(['Mes', 'Inv.inicial', 'No.aleatorio', 'Demanda', 'Inv.final', 'Faltante', 'Orden', 'Inv.mensual promedio'])\n",
        "\n",
        "# Simulación del inventario, solo devuelve una tabla por cada vez que se ejecute el programa\n",
        "for i in range(12):\n",
        "    aux = inventario_inicial\n",
        "    No_aleatorio = rd.uniform(0, 1)\n",
        "    Demanda_ajustada = int(acumulada_inversa(No_aleatorio) * factor_estacionario[i])\n",
        "    inventario_final = inventario_inicial - Demanda_ajustada\n",
        "\n",
        "    if inventario_final > 0:\n",
        "      inventario_mensual_promedio = (aux + inventario_final) / 2\n",
        "      Total_IMP += inventario_mensual_promedio\n",
        "    else:\n",
        "      inventario_mensual_promedio = round((aux / 2) * (aux / Demanda_ajustada))\n",
        "      Total_IMP += inventario_mensual_promedio\n",
        "\n",
        "    if inventario_final >= 0:\n",
        "        faltante = 0\n",
        "    else:\n",
        "        faltante = abs(inventario_final)\n",
        "        Falta_total += faltante\n",
        "        inventario_final = 0\n",
        "\n",
        "\n",
        "\n",
        "    # Control del pedido pendiente\n",
        "    if pedido_pendiente:\n",
        "        tiempo_pedido_pendiente -= 1\n",
        "        if tiempo_pedido_pendiente == 0:\n",
        "            inventario_final += No_de_unidades_a_ordenar\n",
        "            pedido_pendiente = False\n",
        "\n",
        "    # Revisión de la necesidad de reordenar\n",
        "    if inventario_final < reorden and not pedido_pendiente:\n",
        "        aleator = rd.uniform(0, 1)\n",
        "        tiempo_pedido_pendiente = proba_inversa(aleator)\n",
        "        pedido_pendiente = True\n",
        "        orden = 1\n",
        "        Total_de_ordenes += 1\n",
        "    else:\n",
        "        orden = 0\n",
        "\n",
        "\n",
        "\n",
        "    # Impresión de la tabla\n",
        "    lista_tabla = [i + 1, aux, No_aleatorio, Demanda_ajustada, inventario_final, faltante, orden, inventario_mensual_promedio]\n",
        "    Tabla.add_row(lista_tabla)\n",
        "\n",
        "    inventario_inicial = inventario_final\n",
        "\n",
        "#Imprimimos la tabla final\n",
        "print(Tabla)\n",
        "print(\"Total de ordenes:\", Total_de_ordenes)\n",
        "print(\"Falta total:\", Falta_total)\n",
        "print(\"Total de Imp:\", Total_IMP)\n",
        "\n",
        "#Se calcula cada costo y así como el costo total del inventario\n",
        "Costo_llevar_inventario = Total_IMP*1.67\n",
        "Costo_faltante = Falta_total*50\n",
        "Costo_ordenar = Total_de_ordenes*100\n",
        "Costo_total = Costo_llevar_inventario + Costo_faltante + Costo_ordenar\n",
        "print(' Costo total de ordenes: ',Costo_ordenar)\n",
        "print(' Costo total de llevar inventario: ',Costo_llevar_inventario)\n",
        "print(' Costo total de faltante: ',Costo_faltante)\n",
        "print(' Costo total: ',Costo_total)"
      ],
      "metadata": {
        "colab": {
          "base_uri": "https://localhost:8080/"
        },
        "id": "xgaRaL_jShTw",
        "outputId": "fd67285c-ce95-4b80-9434-42c648a5ece3"
      },
      "execution_count": 98,
      "outputs": [
        {
          "output_type": "stream",
          "name": "stdout",
          "text": [
            "+-----+-------------+---------------------+---------+-----------+----------+-------+----------------------+\n",
            "| Mes | Inv.inicial |     No.aleatorio    | Demanda | Inv.final | Faltante | Orden | Inv.mensual promedio |\n",
            "+-----+-------------+---------------------+---------+-----------+----------+-------+----------------------+\n",
            "|  1  |     150     |  0.4273271072055963 |    58   |     92    |    0     |   1   |        121.0         |\n",
            "|  2  |      92     |  0.5252006916313261 |    50   |    242    |    0     |   0   |         67.0         |\n",
            "|  3  |     242     | 0.29715843935146236 |    41   |    201    |    0     |   0   |        221.5         |\n",
            "|  4  |     201     |  0.0898208648972163 |    32   |    169    |    0     |   0   |        185.0         |\n",
            "|  5  |     169     |  0.8197200175306696 |    43   |    126    |    0     |   0   |        147.5         |\n",
            "|  6  |     126     | 0.15829798003710605 |    29   |     97    |    0     |   1   |        111.5         |\n",
            "|  7  |      97     |  0.5433379501847859 |    40   |     57    |    0     |   0   |         77.0         |\n",
            "|  8  |      57     |  0.8489643471319704 |    49   |    208    |    0     |   0   |         32.5         |\n",
            "|  9  |     208     |  0.240494588452544  |    45   |    163    |    0     |   0   |        185.5         |\n",
            "|  10 |     163     |  0.3267688136912942 |    56   |    107    |    0     |   0   |        135.0         |\n",
            "|  11 |     107     |  0.9347048980941771 |    74   |     33    |    0     |   1   |         70.0         |\n",
            "|  12 |      33     | 0.21715414605560557 |    61   |     0     |    28    |   0   |          9           |\n",
            "+-----+-------------+---------------------+---------+-----------+----------+-------+----------------------+\n",
            "Total de ordenes: 3\n",
            "Falta total: 28\n",
            "Total de Imp: 1362.5\n",
            " Costo total de ordenes:  300\n",
            " Costo total de llevar inventario:  2275.375\n",
            " Costo total de faltante:  1400\n",
            " Costo total:  3975.375\n"
          ]
        }
      ]
    },
    {
      "cell_type": "code",
      "source": [
        "#Simulando el problema varias veces para ver cual puede ser el costo total final asi como los\n",
        "# respectivos costos\n",
        "\n",
        "#La razon del porque hacerlo es para podes estimas un valor que calcule la media de cada costo\n",
        "def simulacion(No_de_unidades_a_ordenar, reorden, n=50): #se define una función cuyo parametros son las unidades a ordenar, el reorden y el numero de iteraciones\n",
        "    LISTA1 = []\n",
        "    LISTA2 = []\n",
        "    LISTA3 = []\n",
        "    LISTA4 = [] #se definen listas y variables a ocupar\n",
        "    SUM1 = 0\n",
        "    SUM2 = 0\n",
        "    SUM3 = 0\n",
        "    SUM4 = 0\n",
        "    t = 1\n",
        "    for i in range(n):\n",
        "        factor_estacionario = [1.2, 1.0, 0.9, 0.8, 0.8, 0.7, 0.8, 0.9, 1.0, 1.2, 1.3, 1.4]\n",
        "        No_de_unidades_a_ordenar = 200\n",
        "        inventario_inicial = 150\n",
        "        reorden = 100\n",
        "        pedido_pendiente = False         #son los valores de la tabla, se mandan a llamar nuevamente\n",
        "        tiempo_pedido_pendiente = 0\n",
        "        Total_de_ordenes = 0\n",
        "        Falta_total = 0\n",
        "        Total_IMP = 0\n",
        "        for j in range(12):\n",
        "            aux = inventario_inicial\n",
        "            No_aleatorio = rd.uniform(0, 1)\n",
        "            Demanda_ajustada = int(acumulada_inversa(No_aleatorio) * factor_estacionario[j])\n",
        "            inventario_final = inventario_inicial - Demanda_ajustada\n",
        "\n",
        "            if inventario_final > 0:\n",
        "              inventario_mensual_promedio = (aux + inventario_final) / 2\n",
        "              Total_IMP += inventario_mensual_promedio\n",
        "            else:\n",
        "              inventario_mensual_promedio = round((aux / 2) * (aux / Demanda_ajustada))\n",
        "              Total_IMP += inventario_mensual_promedio\n",
        "\n",
        "            if inventario_final >= 0:\n",
        "                faltante = 0\n",
        "            else:\n",
        "                faltante = abs(inventario_final)\n",
        "                Falta_total += faltante\n",
        "                inventario_final = 0\n",
        "\n",
        "\n",
        "\n",
        "            # Control del pedido pendiente\n",
        "            if pedido_pendiente:\n",
        "                tiempo_pedido_pendiente -= 1\n",
        "                if tiempo_pedido_pendiente == 0:\n",
        "                    inventario_final += No_de_unidades_a_ordenar\n",
        "                    pedido_pendiente = False\n",
        "\n",
        "            # Revisión de la necesidad de reordenar\n",
        "            if inventario_final < reorden and not pedido_pendiente:\n",
        "                aleator = rd.uniform(0, 1)\n",
        "                tiempo_pedido_pendiente = proba_inversa(aleator)\n",
        "                pedido_pendiente = True\n",
        "                orden = 1\n",
        "                Total_de_ordenes += 1\n",
        "                #print(tiempo_pedido_pendiente)\n",
        "            else:\n",
        "                orden = 0\n",
        "\n",
        "\n",
        "            inventario_inicial = inventario_final\n",
        "\n",
        "        Costo_llevar_inventario = Total_IMP * 1.67\n",
        "        Costo_faltante = Falta_total * 50\n",
        "        Costo_ordenar = Total_de_ordenes * 100\n",
        "        Costo_total = Costo_llevar_inventario + Costo_faltante + Costo_ordenar\n",
        "\n",
        "        SUM1 += Costo_ordenar\n",
        "        SUM2 += Costo_llevar_inventario\n",
        "        SUM3 += Costo_faltante\n",
        "        SUM4 += Costo_total\n",
        "\n",
        "\n",
        "        LISTA1.append(SUM1 / (t))\n",
        "        LISTA2.append(SUM2 / (t))\n",
        "        LISTA3.append(SUM3 / (t))\n",
        "        LISTA4.append(SUM4 / (t))\n",
        "        t=t+1\n",
        "\n",
        "    return LISTA1[-1], LISTA2[-1], LISTA3[-1], LISTA4[-1]\n",
        "\n"
      ],
      "metadata": {
        "id": "jMrAM5kk_qYD"
      },
      "execution_count": 105,
      "outputs": []
    },
    {
      "cell_type": "code",
      "source": [
        "# Ejecutar simulación\n",
        "LIS1, LIS2, LIS3, LIS4 = simulacion(200,100,5000)\n",
        "#imprimir valores\n",
        "print(\"Costo de ordenar promedio:\", LIS1)\n",
        "print(\"Costo de llevar inventario promedio:\", LIS2)\n",
        "print(\"Costo faltante promedio:\", LIS3)\n",
        "print(\"Costo total promedio:\", LIS4)"
      ],
      "metadata": {
        "colab": {
          "base_uri": "https://localhost:8080/"
        },
        "id": "SiMfwhiFAK6C",
        "outputId": "d48699ab-5e1a-4295-e597-4e4cbc83952e"
      },
      "execution_count": 109,
      "outputs": [
        {
          "output_type": "stream",
          "name": "stdout",
          "text": [
            "Costo de ordenar promedio: 297.68\n",
            "Costo de llevar inventario promedio: 1987.9997299999964\n",
            "Costo faltante promedio: 2422.15\n",
            "Costo total promedio: 4707.829729999995\n"
          ]
        }
      ]
    },
    {
      "cell_type": "code",
      "source": [
        "# Algoritmo de Hooke-Jeeves\n",
        "def hooke_jeeves(f, x0, delta=0.5, epsilon=1e-5, max_iter=100):\n",
        "    n = len(x0)\n",
        "    x = np.array(x0)\n",
        "    xp = np.array(x0)\n",
        "    xb = np.array(x0)\n",
        "    for i in range(max_iter):\n",
        "        for j in range(n):\n",
        "            d = np.zeros(n)\n",
        "            d[j] = delta\n",
        "            if f(xb + d) < f(xb):\n",
        "                xb = xb + d\n",
        "            elif f(xb - d) < f(xb):\n",
        "                xb = xb - d\n",
        "        if np.linalg.norm(xb - xp) < epsilon:\n",
        "            break\n",
        "        xp = xb + (xb - xp)\n",
        "        if f(xp) < f(xb):\n",
        "            xb = xp\n",
        "        x = xb\n",
        "    return xb\n",
        "\n",
        "# Función de costo total para optimizar\n",
        "def costo_total(params):\n",
        "    No_de_unidades_a_ordenar, reorden = params\n",
        "    _, _, _, Costo_total = simulacion(No_de_unidades_a_ordenar, reorden,1000)\n",
        "    return Costo_total\n",
        "\n",
        "# Parâmetros iniciales: [No_de_unidades_a_ordenar, reorden]\n",
        "x0 = [200, 100]\n",
        "\n",
        "# Encontrar el óptimo\n",
        "optimo = hooke_jeeves(costo_total, x0)\n",
        "No_de_unidades_a_ordenar_optimo, reorden_optimo = optimo\n",
        "\n",
        "print(f\"Óptimo No_de_unidades_a_ordenar: {No_de_unidades_a_ordenar_optimo}\")\n",
        "print(f\"Óptimo reorden: {reorden_optimo}\")\n",
        "\n",
        "# Calcular los costos con los valores óptimos\n",
        "Costo_ordenar_optimo, Costo_llevar_inventario_optimo, Costo_faltante_optimo, Costo_total_optimo = simulacion(No_de_unidades_a_ordenar_optimo, reorden_optimo)\n",
        "print(f\"Costo a ordenar óptimo: {Costo_ordenar_optimo}\")\n",
        "print(f\"Costo de llevar el inventario óptimo: {Costo_llevar_inventario_optimo}\")\n",
        "print(f\"Costo faltante óptimo: {Costo_faltante_optimo}\")\n",
        "print(f\"Costo total óptimo: {Costo_total_optimo}\")"
      ],
      "metadata": {
        "colab": {
          "base_uri": "https://localhost:8080/"
        },
        "id": "HF6b_Q_nIdht",
        "outputId": "17b816a2-426d-48de-c0bc-d8bc721449b3"
      },
      "execution_count": 119,
      "outputs": [
        {
          "output_type": "stream",
          "name": "stdout",
          "text": [
            "Óptimo No_de_unidades_a_ordenar: 201.0\n",
            "Óptimo reorden: 100.0\n",
            "Costo a ordenar óptimo: 298.0\n",
            "Costo de llevar el inventario óptimo: 2041.6752000000001\n",
            "Costo faltante óptimo: 2317.0\n",
            "Costo total óptimo: 4656.675199999999\n"
          ]
        }
      ]
    }
  ]
}