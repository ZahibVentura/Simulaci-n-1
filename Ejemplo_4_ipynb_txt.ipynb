{
  "cells": [
    {
      "cell_type": "markdown",
      "metadata": {
        "id": "view-in-github",
        "colab_type": "text"
      },
      "source": [
        "<a href=\"https://colab.research.google.com/github/ZahibVentura/Simulaci-n-1/blob/main/Ejemplo_4_ipynb_txt.ipynb\" target=\"_parent\"><img src=\"https://colab.research.google.com/assets/colab-badge.svg\" alt=\"Open In Colab\"/></a>"
      ]
    },
    {
      "cell_type": "markdown",
      "id": "c21e5530",
      "metadata": {
        "id": "c21e5530"
      },
      "source": [
        "# Ejemplo: Flecha y cojinete"
      ]
    },
    {
      "cell_type": "markdown",
      "id": "61f9bd36",
      "metadata": {
        "id": "61f9bd36"
      },
      "source": [
        "Una flecha será embonada en un cojinete como se muestra a continuación\n",
        "\n",
        "<img src=\"https://github.com/ZahibVentura/Simulaci-n-1/blob/main/cojinete.png?raw=1\">"
      ]
    },
    {
      "cell_type": "markdown",
      "id": "5f658ca1",
      "metadata": {
        "id": "5f658ca1"
      },
      "source": [
        "Si $x_1$ sigue una distribución normal con media $1.5$ y varianza $0.0016$, y $x_2$ esta misma distribución con media $1.48$ y varianza $0.0009$, determine:\n",
        "\n",
        "a) La probabilidad de que haya interferencia.\n",
        "\n",
        "b) El número de veces que es necesario simular el experimento, si se quiere que la probabilidad de interferencia estimada difiera de su valor verdadero en menos de $0.01$, con un nivel de seguridad del $95\\%.$"
      ]
    },
    {
      "cell_type": "markdown",
      "id": "fac00420",
      "metadata": {
        "id": "fac00420"
      },
      "source": [
        "Vamos a resolver este problema, procurando seguir la metodología vista en el curso."
      ]
    },
    {
      "cell_type": "markdown",
      "id": "ccd32164",
      "metadata": {
        "id": "ccd32164"
      },
      "source": [
        "### 1. Identifique las variables\n",
        "\n",
        "Tenemos dos: $x_1$ y $x_2$."
      ]
    },
    {
      "cell_type": "markdown",
      "id": "ae8735e5",
      "metadata": {
        "id": "ae8735e5"
      },
      "source": [
        "### 2 y 3. Determine la distribución de probabilidad y modele las variables aleatorias\n",
        "\n",
        "En el planteamiento ya se especifica que $x_1 \\sim N(1.5, 0.04)$ y que $x_1 \\sim N(1.48, 0.03)$."
      ]
    },
    {
      "cell_type": "markdown",
      "id": "b1b57a13",
      "metadata": {
        "id": "b1b57a13"
      },
      "source": [
        "### 4. Defina el modelo del sistema y los objetivos de la simulación\n",
        "\n",
        "La diferencia $x_1 - x_2$ modela adecuadamente el sistema.\n",
        "\n",
        "Si $x_2 - x_1 > 0$ el diametro de la flecha es más grande que el espacio en el cojinte y, por tanto, hay interferencia. De lo contrario, las piezas embonan sin problema.\n",
        "\n",
        "Objetivo: determinar la frecuencia con que esto ocurre, lo cual nos da una esrimación de la probabilidad de interefrencia.\n",
        "\n",
        "Una forma de implementarlo es mediante el siguiente código."
      ]
    },
    {
      "cell_type": "markdown",
      "source": [
        "###Solución analítica\n",
        "\n",
        "Como el ejercico pide calcular la probabilidad de que haya interferencia, en otras palabras se pide calcular la probabilidad de que la pieza $x_2$ no encaje adecuadamente en la pieza $x_1$.\n",
        "\n",
        "Analicemos es punto de ver que hay interefencia, primero si $x_2 > x_1$ o que es lo mismo verlo como: $$x_2 - x_1 > 0$$\n",
        "esto indica que el diametro de la flecha es más grande que el diametro del coginete.\n",
        "\n",
        "Puesto que $x_2$ sigue la distribución con media y varianza siguiente: $ N(1.5,0.0016) $ mientras que $x_1$ sigue $N(1.48,0.0009)$.\n",
        "\n",
        "Podemos calcular la distribución normal que sigue la diferencia $ x_2 - x_1 $, para esto es necesario el siguiente teorema:\n",
        "\n",
        "**Suma de variables aleatorias normales independientes** \\\\\n",
        "Si $X$ e $Y$ son dos variables aleatorias continuas independientes con densidades $g(x)$ y $h(y)$ respectivamente se puede probar que la variable aleatoria $Z= X+Y$ tiene densidad dada por:\n",
        "\n",
        "\n",
        "$$ f_{X+Y}(z) = ∫_{-∞}^∞ g(z-y)h(y)dy $$\n",
        "Si $X$ e $Y$ son variables aleatorias independientes donde $ X ∼ N(μ_x,σ_x^2)$ y $ Y ∼ N(μ_y,σ_y^2)$ entonces:\n",
        "$$ X-Y  ∼ N(μ_{x-y},σ^2_{x+y})$$\n",
        "De este teorema podemos obtener la media de la diferencia de las variables aleatorias y ademas la desviación estandar.\n",
        "\n",
        "$$  E(X-Y) = \\mu_x - \\mu_y $$\n",
        "$$ = 1.48 - 1.50 $$\n",
        "$$ = -0.02 $$\n",
        "ahora\n",
        "$$ σ_{x+y} = (σ^2_x + σ^2_y)^{0.5} $$\n",
        "$$ = (0.0016 + 0.0009)^{0.5} $$\n",
        "$$ = 0.05 $$\n",
        "Lo que queremos es: $P(x_2 - x_1>0) = 1-P(x_2 - x_1 ≤ 0)$. Estandarizamos esta probabilidad siendo $T = x_2 - x_1 = 0$\n",
        "$$ z = (T-\\mu_{x-y})/σ_{x-y} $$\n",
        "$$ = ( 0 +0.02)/0.05 $$\n",
        "$$ = 0.4 $$\n",
        "Así que buscando en tablas de la normal la probabilidad $P(T\\le 0) = 0.6554$\n",
        "\n",
        "Por lo tanto\n",
        "$$ P(x_2 - x_1 > 0 ) = 1 - P(x_2 - x_1 \\le 0 )  $$\n",
        "$$ = 1 - 0.6554$$\n",
        "$$ = 0.3446 $$\n",
        "\n",
        "Ahora para determinar el número de simulaciones necesarias, se requiere de la ecuación\n",
        "$$ N > (2σz_{α/2} / ϵ)^{2}$$\n",
        "si $ σ = 0.05$ y $ z_{α/2} = 1.96$\n",
        "entonces\n",
        "$$ N > ((2*0.05*1.96)/0.01)^{2} $$\n",
        "$$ N > 384.16 $$\n",
        "o lo que es: $ N=385 $"
      ],
      "metadata": {
        "id": "My_eaAaPAzqi"
      },
      "id": "My_eaAaPAzqi"
    },
    {
      "cell_type": "code",
      "execution_count": 1,
      "id": "191b1e9b",
      "metadata": {
        "id": "191b1e9b"
      },
      "outputs": [],
      "source": [
        "import numpy as np\n",
        "import random\n",
        "import matplotlib.pyplot as plt  #Importamos las librerias a ocupar\n",
        "from scipy.stats import norm"
      ]
    },
    {
      "cell_type": "code",
      "execution_count": 2,
      "id": "e64c27d2",
      "metadata": {
        "id": "e64c27d2"
      },
      "outputs": [],
      "source": [
        "def interferencia():                #Esta función devuelve el valor 1 si hay interferencia o 0 si no la hay.\n",
        "    interf=0\n",
        "    x_1 = random.gauss(1.50,0.04)    #La funcion gauss genera un número que sigue una distribucion normal con\n",
        "    x_2 = random.gauss(1.48,0.03)   # la media y la desvicion estandar especificados.\n",
        "    if 0.0 < x_2 - x_1:\n",
        "        interf += 1\n",
        "    return interf"
      ]
    },
    {
      "cell_type": "code",
      "execution_count": 3,
      "id": "ebe51777",
      "metadata": {
        "id": "ebe51777",
        "outputId": "561d973e-ef5b-4d12-d842-f671d1d8713f",
        "colab": {
          "base_uri": "https://localhost:8080/"
        }
      },
      "outputs": [
        {
          "output_type": "execute_result",
          "data": {
            "text/plain": [
              "0"
            ]
          },
          "metadata": {},
          "execution_count": 3
        }
      ],
      "source": [
        "interferencia()"
      ]
    },
    {
      "cell_type": "markdown",
      "id": "d6186dac",
      "metadata": {
        "id": "d6186dac"
      },
      "source": [
        "### 5. Diseñe el experimento\n",
        "\n",
        "Para estimar la probabilidad de interferencia, ejecutamos $n$ veces la función anterior y calculamos de manera acumulativa\n",
        "la probabilidad de interferencia."
      ]
    },
    {
      "cell_type": "code",
      "execution_count": 4,
      "id": "f9a766a5",
      "metadata": {
        "id": "f9a766a5"
      },
      "outputs": [],
      "source": [
        "def prob_inter(n):\n",
        "    prob = []                       # Esta funcion devuelve esta lista \"prob\", con los valores de la probabilidad\n",
        "    inter = 0                       # estimada al contar las veces que hay interferencia y dividir entre las veces que\n",
        "    for i in range(n):              # se ha reptido la observacion mientras aumenta el numero de iteraciones.\n",
        "        inter += interferencia()\n",
        "        prob.append(inter/(i+1))\n",
        "    return prob"
      ]
    },
    {
      "cell_type": "code",
      "execution_count": 5,
      "id": "8099a245",
      "metadata": {
        "id": "8099a245"
      },
      "outputs": [],
      "source": [
        "X = prob_inter(500)                # Asignamos valores a n y realizamos el experimento"
      ]
    },
    {
      "cell_type": "code",
      "execution_count": 6,
      "id": "c5a5a3c2",
      "metadata": {
        "id": "c5a5a3c2",
        "colab": {
          "base_uri": "https://localhost:8080/",
          "height": 447
        },
        "outputId": "4015e0ca-1ef0-4315-a02c-e91bea3912cc"
      },
      "outputs": [
        {
          "output_type": "execute_result",
          "data": {
            "text/plain": [
              "[<matplotlib.lines.Line2D at 0x785c367df520>]"
            ]
          },
          "metadata": {},
          "execution_count": 6
        },
        {
          "output_type": "display_data",
          "data": {
            "text/plain": [
              "<Figure size 640x480 with 1 Axes>"
            ],
            "image/png": "[encoded data removed]"
          },
          "metadata": {}
        }
      ],
      "source": [
        "plt.plot(X)                         # La gráfica muestra que la convergencia está garantizada con 500 iteraciones\n",
        "                                    # Sin embargo, diferentes ejecuciones darán resultados distintos"
      ]
    },
    {
      "cell_type": "code",
      "execution_count": 7,
      "id": "4ac4c689",
      "metadata": {
        "id": "4ac4c689",
        "colab": {
          "base_uri": "https://localhost:8080/"
        },
        "outputId": "e2c0c3c4-2d57-45d1-bdfb-ae256433ebd2"
      },
      "outputs": [
        {
          "output_type": "stream",
          "name": "stdout",
          "text": [
            "0.3055707171352235 0.03749585073040216\n"
          ]
        }
      ],
      "source": [
        "print(np.mean(X), np.std(X))  # Imprimimos de media de la lista X y su desviación estandar"
      ]
    },
    {
      "cell_type": "markdown",
      "id": "34727279",
      "metadata": {
        "id": "34727279"
      },
      "source": [
        "### 6. Repita el experimento $n$ veces\n",
        "\n",
        "Una forma de hacerlo es mediante el siguiente codigo."
      ]
    },
    {
      "cell_type": "code",
      "execution_count": 8,
      "id": "908f1884",
      "metadata": {
        "id": "908f1884"
      },
      "outputs": [],
      "source": [
        "def modelo(n): #Función que nos devolvera una lista con las medias de cada lista generada por la función\n",
        "    lista=[]   # prob_inter() de 500 iteraciones\n",
        "    for i in range(n):\n",
        "        s = prob_inter(500)\n",
        "        lista.append(np.mean(s))\n",
        "    return lista"
      ]
    },
    {
      "cell_type": "code",
      "execution_count": 9,
      "id": "34868564",
      "metadata": {
        "id": "34868564"
      },
      "outputs": [],
      "source": [
        "Y=modelo(120) #Se llama a la función modelo"
      ]
    },
    {
      "cell_type": "code",
      "execution_count": 10,
      "id": "8a95845e",
      "metadata": {
        "id": "8a95845e",
        "colab": {
          "base_uri": "https://localhost:8080/",
          "height": 430
        },
        "outputId": "634bc749-f922-4612-dd00-c2a5fc7935f0"
      },
      "outputs": [
        {
          "output_type": "display_data",
          "data": {
            "text/plain": [
              "<Figure size 640x480 with 1 Axes>"
            ],
            "image/png": "[encoded data removed]"
          },
          "metadata": {}
        }
      ],
      "source": [
        "plt.hist(Y) #Muetra el histograma de la función modelo asignada ala variable Y\n",
        "plt.show()"
      ]
    },
    {
      "cell_type": "code",
      "execution_count": 11,
      "id": "e892a16c",
      "metadata": {
        "id": "e892a16c",
        "colab": {
          "base_uri": "https://localhost:8080/"
        },
        "outputId": "e2d11507-8fc2-4331-fac7-d0b8d6250e7f"
      },
      "outputs": [
        {
          "output_type": "stream",
          "name": "stdout",
          "text": [
            "0.34738649917948217 0.028688065875742075\n"
          ]
        }
      ],
      "source": [
        "print(np.mean(Y), np.std(Y)) # Se calcula e imprime la media de la lista de medias así como la desviación estandar"
      ]
    },
    {
      "cell_type": "markdown",
      "id": "e5dc2362",
      "metadata": {
        "id": "e5dc2362"
      },
      "source": [
        "### Paso 7. Hallamos el intervalo de confianza.\n",
        "\n",
        "$$\\bar{x}-z_{\\alpha/2} \\cdot \\frac{s}{\\sqrt{n}} < \\mu < \\bar{x}+z_{\\alpha/2}\\cdot \\frac{s}{\\sqrt{n}}$$"
      ]
    },
    {
      "cell_type": "code",
      "execution_count": 12,
      "id": "23d0b48e",
      "metadata": {
        "id": "23d0b48e",
        "colab": {
          "base_uri": "https://localhost:8080/"
        },
        "outputId": "6e144dc9-3e2f-4ee3-c457-152467db0574"
      },
      "outputs": [
        {
          "output_type": "execute_result",
          "data": {
            "text/plain": [
              "0.34738649917948217"
            ]
          },
          "metadata": {},
          "execution_count": 12
        }
      ],
      "source": [
        "np.mean(Y) #Se calcula la media de la lista de medias"
      ]
    },
    {
      "cell_type": "code",
      "execution_count": 13,
      "id": "b29c74e6",
      "metadata": {
        "id": "b29c74e6",
        "colab": {
          "base_uri": "https://localhost:8080/"
        },
        "outputId": "f1f3ef83-2230-4542-eecf-4dcaab06c8a5"
      },
      "outputs": [
        {
          "output_type": "execute_result",
          "data": {
            "text/plain": [
              "(0.3394345730188956, 0.3553384253400687)"
            ]
          },
          "metadata": {},
          "execution_count": 13
        }
      ],
      "source": [
        "np.mean(Y) - 1.96*np.std(Y)/np.sqrt(50), np.mean(Y) + 1.96*np.std(Y)/np.sqrt(50) #Se calcula el intervalo de confinza donde se encuentra la media real de la población"
      ]
    },
    {
      "cell_type": "code",
      "execution_count": null,
      "id": "3f2cecf1",
      "metadata": {
        "id": "3f2cecf1"
      },
      "outputs": [],
      "source": []
    },
    {
      "cell_type": "markdown",
      "id": "112c0954",
      "metadata": {
        "id": "112c0954"
      },
      "source": [
        "### Para determinar el número de simulaciones"
      ]
    },
    {
      "cell_type": "markdown",
      "id": "0a1a63e7",
      "metadata": {
        "id": "0a1a63e7"
      },
      "source": [
        "$$ N > \\Bigg( \\frac{2 \\sigma z_{\\alpha/2}}{\\epsilon} \\Bigg) ^2 $$"
      ]
    },
    {
      "cell_type": "code",
      "execution_count": 14,
      "id": "1478d745",
      "metadata": {
        "id": "1478d745"
      },
      "outputs": [],
      "source": [
        "N = (2*np.std(X)*1.96/0.01)**2 #Se calcula el numero de simulaciones con la ecuacion de arriba pero solo de la función prob_inter"
      ]
    },
    {
      "cell_type": "code",
      "execution_count": 15,
      "id": "fa6ae0ce",
      "metadata": {
        "id": "fa6ae0ce",
        "colab": {
          "base_uri": "https://localhost:8080/"
        },
        "outputId": "c6096eb1-743e-4ab4-93ce-8643b0c984f7"
      },
      "outputs": [
        {
          "output_type": "stream",
          "name": "stdout",
          "text": [
            "216.04218314328548\n"
          ]
        }
      ],
      "source": [
        "print(N) #Imprimimos ese número"
      ]
    },
    {
      "cell_type": "markdown",
      "id": "a6d1c695",
      "metadata": {
        "id": "a6d1c695"
      },
      "source": [
        "### Podemos comparar con la sulución analítica del problema.\n",
        "\n",
        "Para ello usamos la teoría sobre la suma de variables con distribución normal."
      ]
    },
    {
      "cell_type": "code",
      "execution_count": 16,
      "id": "7284bee0",
      "metadata": {
        "id": "7284bee0",
        "outputId": "034d7add-d3df-42cb-fa43-7eee47078b40",
        "colab": {
          "base_uri": "https://localhost:8080/"
        }
      },
      "outputs": [
        {
          "output_type": "execute_result",
          "data": {
            "text/plain": [
              "0.3445782583896758"
            ]
          },
          "metadata": {},
          "execution_count": 16
        }
      ],
      "source": [
        "norm.cdf(-0.04, -0.02, 0.05)"
      ]
    },
    {
      "cell_type": "code",
      "execution_count": 17,
      "id": "a1a842a2",
      "metadata": {
        "id": "a1a842a2",
        "outputId": "b56bbb01-3a8b-4b4a-8c72-8f7897390057",
        "colab": {
          "base_uri": "https://localhost:8080/"
        }
      },
      "outputs": [
        {
          "output_type": "execute_result",
          "data": {
            "text/plain": [
              "-0.002808240789806349"
            ]
          },
          "metadata": {},
          "execution_count": 17
        }
      ],
      "source": [
        "norm.cdf(-0.04, -0.02, 0.05)-np.mean(Y)"
      ]
    }
  ],
  "metadata": {
    "kernelspec": {
      "display_name": "Python 3 (ipykernel)",
      "language": "python",
      "name": "python3"
    },
    "language_info": {
      "codemirror_mode": {
        "name": "ipython",
        "version": 3
      },
      "file_extension": ".py",
      "mimetype": "text/x-python",
      "name": "python",
      "nbconvert_exporter": "python",
      "pygments_lexer": "ipython3",
      "version": "3.7.3"
    },
    "colab": {
      "provenance": [],
      "include_colab_link": true
    }
  },
  "nbformat": 4,
  "nbformat_minor": 5
}