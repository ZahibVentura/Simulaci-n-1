{
  "nbformat": 4,
  "nbformat_minor": 0,
  "metadata": {
    "colab": {
      "provenance": [],
      "authorship_tag": "ABX9TyPASbTkc4PhZLh9N9KGUQ8V",
      "include_colab_link": true
    },
    "kernelspec": {
      "name": "python3",
      "display_name": "Python 3"
    },
    "language_info": {
      "name": "python"
    }
  },
  "cells": [
    {
      "cell_type": "markdown",
      "metadata": {
        "id": "view-in-github",
        "colab_type": "text"
      },
      "source": [
        "<a href=\"https://colab.research.google.com/github/ZahibVentura/Simulaci-n-1/blob/main/MiVersionCuadradoMedio.ipynb\" target=\"_parent\"><img src=\"https://colab.research.google.com/assets/colab-badge.svg\" alt=\"Open In Colab\"/></a>"
      ]
    },
    {
      "cell_type": "code",
      "execution_count": 12,
      "metadata": {
        "colab": {
          "base_uri": "https://localhost:8080/"
        },
        "id": "6s8lcvWzSCre",
        "outputId": "efe4abfd-bb9d-4823-86f3-76cc51498360"
      },
      "outputs": [
        {
          "output_type": "stream",
          "name": "stdout",
          "text": [
            "Ingrese un número para empezar: 2645\n",
            "+----+------+----------+------+\n",
            "| i  |  X0  |   X0^2   |  Q   |\n",
            "+----+------+----------+------+\n",
            "| 0  | 2645 | 6996025  | 9960 |\n",
            "| 1  | 9960 | 99201600 | 2016 |\n",
            "| 2  | 2016 | 4064256  | 642  |\n",
            "| 3  | 642  |  412164  | 1216 |\n",
            "| 4  | 1216 | 1478656  | 4786 |\n",
            "| 5  | 4786 | 22905796 | 9057 |\n",
            "| 6  | 9057 | 82029249 | 292  |\n",
            "| 7  | 292  |  85264   | 8526 |\n",
            "| 8  | 8526 | 72692676 | 6926 |\n",
            "| 9  | 6926 | 47969476 | 9694 |\n",
            "| 10 | 9694 | 93973636 | 9736 |\n",
            "| 11 | 9736 | 94789696 | 7896 |\n",
            "| 12 | 7896 | 62346816 | 3468 |\n",
            "| 13 | 3468 | 12027024 | 270  |\n",
            "| 14 | 270  |  72900   | 7290 |\n",
            "| 15 | 7290 | 53144100 | 1441 |\n",
            "| 16 | 1441 | 2076481  | 764  |\n",
            "| 17 | 764  |  583696  | 8369 |\n",
            "| 18 | 8369 | 70040161 | 401  |\n",
            "| 19 | 401  |  160801  | 6080 |\n",
            "| 20 | 6080 | 36966400 | 9664 |\n",
            "| 21 | 9664 | 93392896 | 3928 |\n",
            "| 22 | 3928 | 15429184 | 4291 |\n",
            "| 23 | 4291 | 18412681 | 4126 |\n",
            "| 24 | 4126 | 17023876 | 238  |\n",
            "| 25 | 238  |  56644   | 5664 |\n",
            "| 26 | 5664 | 32080896 | 808  |\n",
            "| 27 | 808  |  652864  | 5286 |\n",
            "| 28 | 5286 | 27941796 | 9417 |\n",
            "| 29 | 9417 | 88679889 | 6798 |\n",
            "| 30 | 6798 | 46212804 | 2128 |\n",
            "| 31 | 2128 | 4528384  | 5283 |\n",
            "| 32 | 5283 | 27910089 | 9100 |\n",
            "| 33 | 9100 | 82810000 | 8100 |\n",
            "| 34 | 8100 | 65610000 | 6100 |\n",
            "| 35 | 6100 | 37210000 | 2100 |\n",
            "| 36 | 2100 | 4410000  | 4100 |\n",
            "| 37 | 4100 | 16810000 | 8100 |\n",
            "| 38 | 8100 | 65610000 | 6100 |\n",
            "| 39 | 6100 | 37210000 | 2100 |\n",
            "| 40 | 2100 | 4410000  | 4100 |\n",
            "| 41 | 4100 | 16810000 | 8100 |\n",
            "| 42 | 8100 | 65610000 | 6100 |\n",
            "| 43 | 6100 | 37210000 | 2100 |\n",
            "| 44 | 2100 | 4410000  | 4100 |\n",
            "| 45 | 4100 | 16810000 | 8100 |\n",
            "| 46 | 8100 | 65610000 | 6100 |\n",
            "| 47 | 6100 | 37210000 | 2100 |\n",
            "| 48 | 2100 | 4410000  | 4100 |\n",
            "| 49 | 4100 | 16810000 | 8100 |\n",
            "+----+------+----------+------+\n"
          ]
        }
      ],
      "source": [
        "#Metodo de cuadrado medio\n",
        "from prettytable import PrettyTable\n",
        "\n",
        "X0=int(input('Ingrese un número para empezar: '))\n",
        "caracter=str(X0)\n",
        "n=len(caracter)\n",
        "Tabla = PrettyTable(['i','X0','X0^2','Q'])\n",
        "\n",
        "for i in range(50):\n",
        "  cuadrado=X0**2\n",
        "  caracter_cuadrado=str(cuadrado)\n",
        "  N=len(caracter_cuadrado)\n",
        "  if n%2==0:\n",
        "    if N%2==0:\n",
        "      t=int(n/2)\n",
        "      s=int(N/2)\n",
        "      Q=int(caracter_cuadrado[s-t:s+t])\n",
        "    else:\n",
        "      C='0'+caracter_cuadrado\n",
        "      t=int(n/2)\n",
        "      s=int(len(C)/2)\n",
        "      Q=int(C[s-t:s+t])\n",
        "  else:\n",
        "    if N%2==0:\n",
        "      C='0'+caracter_cuadrado\n",
        "      t=int((n-1)/2)\n",
        "      s=int((N/2)+1)\n",
        "      Q=int(C[s-t-1:s+t])\n",
        "    else:\n",
        "      t=int((n-1)/2)\n",
        "      s=int((N+1)/2)\n",
        "      Q=int(caracter_cuadrado[s-t-1:s+t])\n",
        "  Lista=[i,X0,cuadrado,Q]\n",
        "  Tabla.add_row(Lista)\n",
        "  X0=Q\n",
        "\n",
        "\n",
        "print(Tabla)"
      ]
    }
  ]
}