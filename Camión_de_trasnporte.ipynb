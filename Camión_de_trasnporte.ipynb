{
  "nbformat": 4,
  "nbformat_minor": 0,
  "metadata": {
    "colab": {
      "provenance": [],
      "authorship_tag": "ABX9TyP1KjIEysS1+4t9ixZbUxWx",
      "include_colab_link": true
    },
    "kernelspec": {
      "name": "python3",
      "display_name": "Python 3"
    },
    "language_info": {
      "name": "python"
    }
  },
  "cells": [
    {
      "cell_type": "markdown",
      "metadata": {
        "id": "view-in-github",
        "colab_type": "text"
      },
      "source": [
        "<a href=\"https://colab.research.google.com/github/ZahibVentura/Simulaci-n-1/blob/main/Cami%C3%B3n_de_trasnporte.ipynb\" target=\"_parent\"><img src=\"https://colab.research.google.com/assets/colab-badge.svg\" alt=\"Open In Colab\"/></a>"
      ]
    },
    {
      "cell_type": "code",
      "execution_count": 30,
      "metadata": {
        "id": "foRIOMgA-UcI"
      },
      "outputs": [],
      "source": [
        "#Ejercicio 1\n",
        "import random as rd\n",
        "import matplotlib.pyplot as plt\n",
        "\n",
        "def triangular(n=1): #Definimos la fuincion que calcule mi distribución triangular\n",
        "  Lista_vacia = [ ]\n",
        "  for i in range(n):\n",
        "    u = rd.uniform(0,1)\n",
        "    if u<=0.5:\n",
        "      x = 190 + 20*(2*u)**0.5\n",
        "\n",
        "    else:\n",
        "      x = 230 - 20*(2*(1-u))**0.5\n",
        "\n",
        "  return x #regresamos solo el valor de la variable aleatoria que sigue esa distribución"
      ]
    },
    {
      "cell_type": "code",
      "source": [
        "\n",
        "Contador = 0\n",
        "Lista_probabilidad = [ ]\n",
        "N=10000\n",
        "for j in range(N):\n",
        "  suma = 0\n",
        "  for k in range(5):\n",
        "    U_T = triangular() #se invoca la funcion para calcular la variable aleatoria\n",
        "    suma += U_T\n",
        "  if suma > 1000: #condición del problema (peso permitido)\n",
        "    Contador+=1\n",
        "    Probabilidad = Contador/(j+1)  #Se calcula la probabilidad de exceder el peso\n",
        "    Lista_probabilidad.append(Probabilidad)\n",
        "\n",
        "print(\"La probabilidad es: \", Probabilidad)"
      ],
      "metadata": {
        "colab": {
          "base_uri": "https://localhost:8080/"
        },
        "id": "WOoW6F6s_29N",
        "outputId": "79a541d4-1a74-471b-8baa-4c827a3add90"
      },
      "execution_count": 31,
      "outputs": [
        {
          "output_type": "stream",
          "name": "stdout",
          "text": [
            "La probabilidad es:  0.9968\n"
          ]
        }
      ]
    },
    {
      "cell_type": "code",
      "source": [
        "\n",
        "# Graficar los resultados\n",
        "plt.subplot(1, 2, 2)\n",
        "plt.plot( Lista_probabilidad, color='g')\n",
        "plt.axhline(y=Probabilidad, color='b', linestyle='--')\n",
        "plt.title('Convergencia')\n",
        "plt.xlabel('Número de iteraciones')\n",
        "plt.ylabel('Probabilidad')\n",
        "plt.grid()\n",
        "\n",
        "\n",
        "plt.show()"
      ],
      "metadata": {
        "colab": {
          "base_uri": "https://localhost:8080/",
          "height": 472
        },
        "id": "wAF4I_oTB5A2",
        "outputId": "ac6ee789-2456-48a3-e8be-77b6cd15a219"
      },
      "execution_count": 32,
      "outputs": [
        {
          "output_type": "display_data",
          "data": {
            "text/plain": [
              "<Figure size 640x480 with 1 Axes>"
            ],
            "image/png": "[encoded data removed]"
          },
          "metadata": {}
        }
      ]
    },
    {
      "cell_type": "code",
      "source": [
        "#Ejercicio 2\n",
        "\n",
        "#Podemos calcular el costo total de envio de la siguiente manera\n",
        "Costo = 0\n",
        "Lista_probabilidad = [ ]\n",
        "N=260 #indica los dias a trabajar al año\n",
        "for j in range(N):\n",
        "  suma = 0\n",
        "  for k in range(5):\n",
        "    U_T = triangular()\n",
        "    suma += U_T\n",
        "  if suma > 1000:\n",
        "    Costo+=200\n",
        "\n",
        "print(\"El costo es: \", Costo)"
      ],
      "metadata": {
        "colab": {
          "base_uri": "https://localhost:8080/"
        },
        "id": "eyq5FMjCHzvF",
        "outputId": "840d285a-d28a-4f78-a5f8-f3864623226d"
      },
      "execution_count": 38,
      "outputs": [
        {
          "output_type": "stream",
          "name": "stdout",
          "text": [
            "El costo es:  51800\n"
          ]
        }
      ]
    },
    {
      "cell_type": "code",
      "source": [
        "# O bien ocupando la probabilidad obtenidad del ejercicio 1 y definir variables\n",
        "Semanas = 52\n",
        "Pb = Probabilidad\n",
        "Dias_de_trabajo = 5\n",
        "Precio_por_tina = 200\n",
        "\n",
        "Costo_total = Semanas*Pb*Dias_de_trabajo*Precio_por_tina\n",
        "print(\"Costo total es: \", Costo_total)"
      ],
      "metadata": {
        "colab": {
          "base_uri": "https://localhost:8080/"
        },
        "id": "W8lBQUY7IZG6",
        "outputId": "b39bbea2-2cba-41d8-867a-481c5b801ade"
      },
      "execution_count": 39,
      "outputs": [
        {
          "output_type": "stream",
          "name": "stdout",
          "text": [
            "Costo total es:  51833.6\n"
          ]
        }
      ]
    }
  ]
}